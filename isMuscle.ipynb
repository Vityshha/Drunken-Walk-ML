{
 "cells": [
  {
   "cell_type": "code",
   "execution_count": 1,
   "id": "3cb897c4",
   "metadata": {},
   "outputs": [],
   "source": [
    "import tsfel\n",
    "import glob\n",
    "import joblib\n",
    "import pickle\n",
    "import pandas as pd\n",
    "import numpy as np\n",
    "import seaborn as sns\n",
    "\n",
    "import scipy.stats as stats\n",
    "import matplotlib.pyplot as plt\n",
    "\n",
    "from sklearn import preprocessing\n",
    "from sklearn.model_selection import train_test_split, StratifiedKFold\n",
    "from sklearn.ensemble import RandomForestClassifier\n",
    "from sklearn.metrics import classification_report, f1_score\n",
    "from sklearn.feature_selection import VarianceThreshold\n",
    "from sklearn.metrics import confusion_matrix, accuracy_score\n",
    "\n",
    "\n",
    "from sklearn.model_selection import cross_val_score\n",
    "from sklearn.model_selection import GridSearchCV \n",
    "from sklearn.impute import SimpleImputer\n",
    "\n",
    "import warnings\n",
    "warnings.filterwarnings(\"ignore\")"
   ]
  },
  {
   "cell_type": "code",
   "execution_count": 2,
   "id": "8afd0091",
   "metadata": {},
   "outputs": [],
   "source": [
    "#!pip install sklearn.impute\n",
    "#!pip install matplotlib\n",
    "#!pip install -U Pillow\n",
    "#!pip install seaborn\n",
    "#!pip uninstall scipy\n",
    "#!pip install scipy==1.8.1\n",
    "#pip list\n",
    "#!pip install cPickle"
   ]
  },
  {
   "cell_type": "code",
   "execution_count": 3,
   "id": "6d30bd2f",
   "metadata": {},
   "outputs": [],
   "source": [
    "def parsing(folder_name, fs=50):\n",
    "    \n",
    "    \"\"\"Принимает на вход название папки  из директории в которой находится датасет.\n",
    "    Файлы должны быть записаны как Accel_sub_ и Gyr_sub_ соотвественно.\n",
    "    feature_class = temporal or statistical or spectral.\n",
    "    Возвращает df с модулями акселерометра и гироскопа\"\"\"\n",
    "\n",
    "\n",
    "    # Загрузка датасета\n",
    "    files = glob.glob('C:\\\\Users\\\\Virtus\\\\Desktop\\\\Muscule_fatigue\\\\DataSet\\\\'+folder_name+'\\\\Accel_sub*.csv')\n",
    "    df1 = pd.DataFrame()\n",
    "    \n",
    "    for file in files:\n",
    "        data = pd.read_csv(file)\n",
    "        data = data.iloc[:-fs*5]\n",
    "        data = data.iloc[fs*5:]\n",
    "        df1 = df1.append(data)\n",
    "    \n",
    "    \n",
    "    files = glob.glob('C:\\\\Users\\\\Virtus\\\\Desktop\\\\Muscule_fatigue\\\\DataSet\\\\'+folder_name+'\\\\Gyr_sub*.csv')\n",
    "    df2 = pd.DataFrame()\n",
    "    \n",
    "    for file in files:\n",
    "        data = pd.read_csv(file)\n",
    "        data = data.iloc[:-fs*5]\n",
    "        data = data.iloc[fs*5:]\n",
    "        df2 = df2.append(data)\n",
    "    \n",
    "    \n",
    "    # Находим модуль\n",
    "    df1 = pd.DataFrame((df1['X (m/s^2)'] ** 2 + df1['Y (m/s^2)'] ** 2 + df1['Z (m/s^2)'] ** 2) ** 0.5)\n",
    "    df2 = pd.DataFrame((df2['X (rad/s)'] ** 2 + df2['Y (rad/s)'] ** 2 + df2['Z (rad/s)'] ** 2) ** 0.5)\n",
    "\n",
    "    \n",
    "    df1.columns = ['acc']\n",
    "    df2.columns = ['gyr']\n",
    "\n",
    "    #sns.boxplot(data=[df1, df2],orient='h')\n",
    "    \n",
    "    # Удаление выбросов по квантилям \n",
    "    Q1 = df1.quantile(q=.25)\n",
    "    Q3 = df1.quantile(q=.75)\n",
    "    IQR = df1.apply(stats.iqr)\n",
    "    df1 = df1[~((df1 < (Q1 - 1.5 * IQR)) | (df1 > (Q3 + 1.5 * IQR))).any(axis=1)]\n",
    "\n",
    "    Q1 = df2.quantile(q=.25)\n",
    "    Q3 = df2.quantile(q=.75)\n",
    "    IQR = df2.apply(stats.iqr)\n",
    "    df2 = df2[~((df2 < (Q1 - 1.5 * IQR)) | (df2 > (Q3 + 1.5 * IQR))).any(axis=1)]\n",
    "\n",
    "    #Объединяем в один датафрейм\n",
    "    df = pd.merge(df1, df2, left_index=True, right_index=True)\n",
    "    #sns.boxplot(data=df,orient='h')\n",
    "    \n",
    "    return df"
   ]
  },
  {
   "cell_type": "code",
   "execution_count": 4,
   "id": "6380d8f2",
   "metadata": {},
   "outputs": [],
   "source": [
    "def features(df, feature_class, fs=50, window_size=250):\n",
    "\n",
    "    '''Принимает на вход df, feature_class - параметр, определяющий какой тип \n",
    "    признаков будет извлечен, feature_class = temporal or statistical or spectral.\n",
    "    Возвращает df с признаками.'''\n",
    "    \n",
    "    # Выбор признаков которые будут извлечены \n",
    "    cfg = tsfel.get_features_by_domain(feature_class)\n",
    "    \n",
    "    # Извлечение признаков\n",
    "    X_train = tsfel.time_series_features_extractor(cfg, df, fs=fs, window_size=window_size,\n",
    "                                                    header_names=['acc', 'gyr'])\n",
    "    \n",
    "    # Удаление признаков с высокой корреляцией\n",
    "    corr_features = tsfel.correlated_features(X_train, threshold=0.6)\n",
    "    X_train.drop(corr_features, axis=1, inplace=True)\n",
    "    \n",
    "    # Удаление признаков с низкой дисперсией, threshold - уровень 'схожести' столбцов\n",
    "    var_thr = VarianceThreshold(threshold=0.3)\n",
    "    var_thr.fit_transform(X_train)\n",
    "    concol = [column for column in X_train.columns\n",
    "            if column not in X_train.columns[var_thr.get_support()]]\n",
    "    X_train = X_train.drop(concol, axis=1)\n",
    "    \n",
    "    # Нормализация признаков\n",
    "    nX_train = pd.DataFrame(preprocessing.normalize(X_train))\n",
    "    nX_train.columns = X_train.columns\n",
    "    \n",
    "    # Запись таблицы с признаками\n",
    "    nX_train = pd.DataFrame(nX_train)\n",
    "    \n",
    "    return nX_train"
   ]
  },
  {
   "cell_type": "code",
   "execution_count": 5,
   "id": "f1c333c5",
   "metadata": {
    "scrolled": false
   },
   "outputs": [],
   "source": [
    "# Создаем df с датасета\n",
    "df1 = parsing('Not_Tired')\n",
    "df2 = parsing('Average_Fatigue')\n",
    "df3 = parsing('High_Fatigue')"
   ]
  },
  {
   "cell_type": "code",
   "execution_count": 6,
   "id": "62cb4ae0",
   "metadata": {},
   "outputs": [
    {
     "name": "stdout",
     "output_type": "stream",
     "text": [
      "*** Feature extraction started ***\n"
     ]
    },
    {
     "data": {
      "text/html": [
       "\n",
       "              <p>\n",
       "                  Progress: 100% Complete\n",
       "              <p/>            \n",
       "              <progress\n",
       "                  value='4606'\n",
       "                  max='4606',\n",
       "                  style='width: 25%',\n",
       "              >\n",
       "                  4606\n",
       "              </progress>\n",
       "\n",
       "    "
      ],
      "text/plain": [
       "<IPython.core.display.HTML object>"
      ]
     },
     "metadata": {},
     "output_type": "display_data"
    },
    {
     "name": "stdout",
     "output_type": "stream",
     "text": [
      "\n",
      "*** Feature extraction finished ***\n",
      "*** Feature extraction started ***\n"
     ]
    },
    {
     "data": {
      "text/html": [
       "\n",
       "              <p>\n",
       "                  Progress: 100% Complete\n",
       "              <p/>            \n",
       "              <progress\n",
       "                  value='2167'\n",
       "                  max='2167',\n",
       "                  style='width: 25%',\n",
       "              >\n",
       "                  2167\n",
       "              </progress>\n",
       "\n",
       "    "
      ],
      "text/plain": [
       "<IPython.core.display.HTML object>"
      ]
     },
     "metadata": {},
     "output_type": "display_data"
    },
    {
     "name": "stdout",
     "output_type": "stream",
     "text": [
      "\n",
      "*** Feature extraction finished ***\n",
      "*** Feature extraction started ***\n"
     ]
    },
    {
     "data": {
      "text/html": [
       "\n",
       "              <p>\n",
       "                  Progress: 100% Complete\n",
       "              <p/>            \n",
       "              <progress\n",
       "                  value='1922'\n",
       "                  max='1922',\n",
       "                  style='width: 25%',\n",
       "              >\n",
       "                  1922\n",
       "              </progress>\n",
       "\n",
       "    "
      ],
      "text/plain": [
       "<IPython.core.display.HTML object>"
      ]
     },
     "metadata": {},
     "output_type": "display_data"
    },
    {
     "name": "stdout",
     "output_type": "stream",
     "text": [
      "\n",
      "*** Feature extraction finished ***\n"
     ]
    }
   ],
   "source": [
    "# Вычисляем статистические признаки\n",
    "NotFatig_stat  = features(df=df1, feature_class='statistical')\n",
    "AverFatig_stat = features(df=df2, feature_class='statistical')\n",
    "HighFatig_stat = features(df=df3, feature_class='statistical')"
   ]
  },
  {
   "cell_type": "code",
   "execution_count": 7,
   "id": "db6cfcbe",
   "metadata": {},
   "outputs": [
    {
     "name": "stdout",
     "output_type": "stream",
     "text": [
      "*** Feature extraction started ***\n"
     ]
    },
    {
     "data": {
      "text/html": [
       "\n",
       "              <p>\n",
       "                  Progress: 100% Complete\n",
       "              <p/>            \n",
       "              <progress\n",
       "                  value='4606'\n",
       "                  max='4606',\n",
       "                  style='width: 25%',\n",
       "              >\n",
       "                  4606\n",
       "              </progress>\n",
       "\n",
       "    "
      ],
      "text/plain": [
       "<IPython.core.display.HTML object>"
      ]
     },
     "metadata": {},
     "output_type": "display_data"
    },
    {
     "name": "stdout",
     "output_type": "stream",
     "text": [
      "\n",
      "*** Feature extraction finished ***\n",
      "*** Feature extraction started ***\n"
     ]
    },
    {
     "data": {
      "text/html": [
       "\n",
       "              <p>\n",
       "                  Progress: 100% Complete\n",
       "              <p/>            \n",
       "              <progress\n",
       "                  value='2167'\n",
       "                  max='2167',\n",
       "                  style='width: 25%',\n",
       "              >\n",
       "                  2167\n",
       "              </progress>\n",
       "\n",
       "    "
      ],
      "text/plain": [
       "<IPython.core.display.HTML object>"
      ]
     },
     "metadata": {},
     "output_type": "display_data"
    },
    {
     "name": "stdout",
     "output_type": "stream",
     "text": [
      "\n",
      "*** Feature extraction finished ***\n",
      "*** Feature extraction started ***\n"
     ]
    },
    {
     "data": {
      "text/html": [
       "\n",
       "              <p>\n",
       "                  Progress: 100% Complete\n",
       "              <p/>            \n",
       "              <progress\n",
       "                  value='1922'\n",
       "                  max='1922',\n",
       "                  style='width: 25%',\n",
       "              >\n",
       "                  1922\n",
       "              </progress>\n",
       "\n",
       "    "
      ],
      "text/plain": [
       "<IPython.core.display.HTML object>"
      ]
     },
     "metadata": {},
     "output_type": "display_data"
    },
    {
     "name": "stdout",
     "output_type": "stream",
     "text": [
      "\n",
      "*** Feature extraction finished ***\n"
     ]
    }
   ],
   "source": [
    "# Вычисляем временные признаки\n",
    "NotFatig_temp  = features(df=df1, feature_class='temporal')\n",
    "AverFatig_temp = features(df=df2, feature_class='temporal')\n",
    "HighFatig_temp = features(df=df3, feature_class='temporal')"
   ]
  },
  {
   "cell_type": "code",
   "execution_count": 8,
   "id": "1f39bdc7",
   "metadata": {},
   "outputs": [
    {
     "name": "stdout",
     "output_type": "stream",
     "text": [
      "*** Feature extraction started ***\n"
     ]
    },
    {
     "data": {
      "text/html": [
       "\n",
       "              <p>\n",
       "                  Progress: 100% Complete\n",
       "              <p/>            \n",
       "              <progress\n",
       "                  value='4606'\n",
       "                  max='4606',\n",
       "                  style='width: 25%',\n",
       "              >\n",
       "                  4606\n",
       "              </progress>\n",
       "\n",
       "    "
      ],
      "text/plain": [
       "<IPython.core.display.HTML object>"
      ]
     },
     "metadata": {},
     "output_type": "display_data"
    },
    {
     "name": "stdout",
     "output_type": "stream",
     "text": [
      "\n",
      "*** Feature extraction finished ***\n",
      "*** Feature extraction started ***\n"
     ]
    },
    {
     "data": {
      "text/html": [
       "\n",
       "              <p>\n",
       "                  Progress: 100% Complete\n",
       "              <p/>            \n",
       "              <progress\n",
       "                  value='2167'\n",
       "                  max='2167',\n",
       "                  style='width: 25%',\n",
       "              >\n",
       "                  2167\n",
       "              </progress>\n",
       "\n",
       "    "
      ],
      "text/plain": [
       "<IPython.core.display.HTML object>"
      ]
     },
     "metadata": {},
     "output_type": "display_data"
    },
    {
     "name": "stdout",
     "output_type": "stream",
     "text": [
      "\n",
      "*** Feature extraction finished ***\n",
      "*** Feature extraction started ***\n"
     ]
    },
    {
     "data": {
      "text/html": [
       "\n",
       "              <p>\n",
       "                  Progress: 100% Complete\n",
       "              <p/>            \n",
       "              <progress\n",
       "                  value='1922'\n",
       "                  max='1922',\n",
       "                  style='width: 25%',\n",
       "              >\n",
       "                  1922\n",
       "              </progress>\n",
       "\n",
       "    "
      ],
      "text/plain": [
       "<IPython.core.display.HTML object>"
      ]
     },
     "metadata": {},
     "output_type": "display_data"
    },
    {
     "name": "stdout",
     "output_type": "stream",
     "text": [
      "\n",
      "*** Feature extraction finished ***\n"
     ]
    }
   ],
   "source": [
    "# Вычисляем спектральные признаки\n",
    "NotFatig_spec  = features(df=df1, feature_class='spectral')\n",
    "AverFatig_spec = features(df=df2, feature_class='spectral')\n",
    "HighFatig_spec = features(df=df3, feature_class='spectral')"
   ]
  },
  {
   "cell_type": "code",
   "execution_count": 9,
   "id": "abc5727f",
   "metadata": {},
   "outputs": [],
   "source": [
    "# Объединяем df с признакми\n",
    "NotFatig_Data  = pd.concat([NotFatig_stat, NotFatig_temp, NotFatig_spec], axis=1, join='inner')\n",
    "AverFatig_Data = pd.concat([AverFatig_stat, AverFatig_temp, AverFatig_spec], axis=1, join='inner')\n",
    "HighFatig_Data = pd.concat([HighFatig_stat, HighFatig_temp, HighFatig_spec], axis=1, join='inner')"
   ]
  },
  {
   "cell_type": "code",
   "execution_count": 10,
   "id": "42e67650",
   "metadata": {},
   "outputs": [
    {
     "data": {
      "text/plain": [
       "Index(['acc_Histogram_5', 'acc_Histogram_6', 'acc_Histogram_7',\n",
       "       'acc_Histogram_8', 'acc_Histogram_9', 'gyr_Histogram_5',\n",
       "       'gyr_Histogram_6'],\n",
       "      dtype='object')"
      ]
     },
     "execution_count": 10,
     "metadata": {},
     "output_type": "execute_result"
    }
   ],
   "source": [
    "NotFatig_Data2 = NotFatig_Data[NotFatig_Data != 0]\n",
    "\n",
    "#В каких колонках больше 40% нулей\n",
    "missing_features = NotFatig_Data2.columns[NotFatig_Data2.isnull().mean() > 0.40]\n",
    "NotFatig_Data = NotFatig_Data2.drop(missing_features, axis=1)#, inplace=True)\n",
    "missing_features"
   ]
  },
  {
   "cell_type": "code",
   "execution_count": 11,
   "id": "030ac18c",
   "metadata": {},
   "outputs": [
    {
     "data": {
      "text/plain": [
       "Index(['acc_Histogram_6', 'acc_Histogram_7', 'acc_Histogram_8',\n",
       "       'acc_Histogram_9', 'gyr_Histogram_5', 'gyr_Histogram_6'],\n",
       "      dtype='object')"
      ]
     },
     "execution_count": 11,
     "metadata": {},
     "output_type": "execute_result"
    }
   ],
   "source": [
    "AverFatig_Data2 = AverFatig_Data[AverFatig_Data != 0]\n",
    "\n",
    "#В каких колонках больше 40% нулей\n",
    "missing_features = AverFatig_Data2.columns[AverFatig_Data2.isnull().mean() > 0.40]\n",
    "AverFatig_Data = AverFatig_Data2.drop(missing_features, axis=1)#, inplace=True)\n",
    "missing_features"
   ]
  },
  {
   "cell_type": "code",
   "execution_count": 12,
   "id": "bb3ba9d2",
   "metadata": {},
   "outputs": [
    {
     "data": {
      "text/plain": [
       "Index(['acc_Histogram_5', 'acc_Histogram_9', 'gyr_Histogram_6'], dtype='object')"
      ]
     },
     "execution_count": 12,
     "metadata": {},
     "output_type": "execute_result"
    }
   ],
   "source": [
    "HighFatig_Data2 = HighFatig_Data[HighFatig_Data != 0]\n",
    "\n",
    "#В каких колонках больше 40% нулей\n",
    "missing_features = HighFatig_Data2.columns[HighFatig_Data2.isnull().mean() > 0.40]\n",
    "HighFatig_Data = HighFatig_Data2.drop(missing_features, axis=1)#, inplace=True)\n",
    "missing_features"
   ]
  },
  {
   "cell_type": "code",
   "execution_count": 13,
   "id": "84909989",
   "metadata": {},
   "outputs": [],
   "source": [
    "#Nan --->0\n",
    "NotFatig_Data = NotFatig_Data[NotFatig_Data != 0]\n",
    "NotFatig_Data = NotFatig_Data.apply(lambda row: row.fillna(row.mean()), axis=1)"
   ]
  },
  {
   "cell_type": "code",
   "execution_count": 14,
   "id": "edc38811",
   "metadata": {},
   "outputs": [],
   "source": [
    "AverFatig_Data = AverFatig_Data[AverFatig_Data != 0]\n",
    "AverFatig_Data = AverFatig_Data.apply(lambda row: row.fillna(row.mean()), axis=1)"
   ]
  },
  {
   "cell_type": "code",
   "execution_count": 15,
   "id": "c8e6895d",
   "metadata": {},
   "outputs": [],
   "source": [
    "HighFatig_Data = HighFatig_Data[HighFatig_Data != 0]\n",
    "HighFatig_Data = HighFatig_Data.apply(lambda row: row.fillna(row.mean()), axis=1)"
   ]
  },
  {
   "cell_type": "code",
   "execution_count": 16,
   "id": "49d70c88",
   "metadata": {},
   "outputs": [
    {
     "data": {
      "text/html": [
       "<div>\n",
       "<style scoped>\n",
       "    .dataframe tbody tr th:only-of-type {\n",
       "        vertical-align: middle;\n",
       "    }\n",
       "\n",
       "    .dataframe tbody tr th {\n",
       "        vertical-align: top;\n",
       "    }\n",
       "\n",
       "    .dataframe thead th {\n",
       "        text-align: right;\n",
       "    }\n",
       "</style>\n",
       "<table border=\"1\" class=\"dataframe\">\n",
       "  <thead>\n",
       "    <tr style=\"text-align: right;\">\n",
       "      <th></th>\n",
       "      <th>acc_ECDF Percentile_0</th>\n",
       "      <th>acc_ECDF Percentile_1</th>\n",
       "      <th>acc_Kurtosis</th>\n",
       "      <th>acc_Max</th>\n",
       "      <th>acc_Min</th>\n",
       "      <th>gyr_Histogram_7</th>\n",
       "      <th>gyr_Histogram_8</th>\n",
       "      <th>gyr_Histogram_9</th>\n",
       "      <th>gyr_Kurtosis</th>\n",
       "      <th>acc_Absolute energy</th>\n",
       "      <th>...</th>\n",
       "      <th>gyr_MFCC_4</th>\n",
       "      <th>gyr_MFCC_5</th>\n",
       "      <th>gyr_MFCC_6</th>\n",
       "      <th>gyr_MFCC_7</th>\n",
       "      <th>gyr_MFCC_8</th>\n",
       "      <th>gyr_MFCC_9</th>\n",
       "      <th>gyr_Maximum frequency</th>\n",
       "      <th>gyr_Median frequency</th>\n",
       "      <th>gyr_Power bandwidth</th>\n",
       "      <th>gyr_Spectral positive turning points</th>\n",
       "    </tr>\n",
       "  </thead>\n",
       "  <tbody>\n",
       "    <tr>\n",
       "      <th>0</th>\n",
       "      <td>0.015066</td>\n",
       "      <td>0.045585</td>\n",
       "      <td>0.012896</td>\n",
       "      <td>0.080286</td>\n",
       "      <td>0.007778</td>\n",
       "      <td>0.156857</td>\n",
       "      <td>0.888854</td>\n",
       "      <td>0.287570</td>\n",
       "      <td>-0.005336</td>\n",
       "      <td>0.946521</td>\n",
       "      <td>...</td>\n",
       "      <td>0.000605</td>\n",
       "      <td>0.001641</td>\n",
       "      <td>0.000788</td>\n",
       "      <td>-0.000956</td>\n",
       "      <td>0.001788</td>\n",
       "      <td>0.001592</td>\n",
       "      <td>0.000262</td>\n",
       "      <td>0.000106</td>\n",
       "      <td>0.000241</td>\n",
       "      <td>0.000117</td>\n",
       "    </tr>\n",
       "    <tr>\n",
       "      <th>1</th>\n",
       "      <td>0.028742</td>\n",
       "      <td>0.108266</td>\n",
       "      <td>-0.007240</td>\n",
       "      <td>0.164571</td>\n",
       "      <td>0.013245</td>\n",
       "      <td>0.153182</td>\n",
       "      <td>0.891241</td>\n",
       "      <td>0.320290</td>\n",
       "      <td>-0.005156</td>\n",
       "      <td>0.997115</td>\n",
       "      <td>...</td>\n",
       "      <td>0.000221</td>\n",
       "      <td>0.000853</td>\n",
       "      <td>0.000512</td>\n",
       "      <td>-0.000352</td>\n",
       "      <td>0.000284</td>\n",
       "      <td>0.000435</td>\n",
       "      <td>0.000121</td>\n",
       "      <td>0.000049</td>\n",
       "      <td>0.000111</td>\n",
       "      <td>0.000103</td>\n",
       "    </tr>\n",
       "    <tr>\n",
       "      <th>2</th>\n",
       "      <td>0.013705</td>\n",
       "      <td>0.061242</td>\n",
       "      <td>0.013395</td>\n",
       "      <td>0.134902</td>\n",
       "      <td>0.006642</td>\n",
       "      <td>0.165323</td>\n",
       "      <td>0.606183</td>\n",
       "      <td>0.316868</td>\n",
       "      <td>-0.012525</td>\n",
       "      <td>0.992242</td>\n",
       "      <td>...</td>\n",
       "      <td>0.000285</td>\n",
       "      <td>0.001135</td>\n",
       "      <td>0.001177</td>\n",
       "      <td>0.000705</td>\n",
       "      <td>0.000966</td>\n",
       "      <td>0.000931</td>\n",
       "      <td>0.000173</td>\n",
       "      <td>0.000069</td>\n",
       "      <td>0.000138</td>\n",
       "      <td>0.000076</td>\n",
       "    </tr>\n",
       "    <tr>\n",
       "      <th>3</th>\n",
       "      <td>0.031152</td>\n",
       "      <td>0.091593</td>\n",
       "      <td>-0.021013</td>\n",
       "      <td>0.116779</td>\n",
       "      <td>0.017452</td>\n",
       "      <td>0.344263</td>\n",
       "      <td>0.791805</td>\n",
       "      <td>0.464755</td>\n",
       "      <td>-0.016394</td>\n",
       "      <td>0.990608</td>\n",
       "      <td>...</td>\n",
       "      <td>0.000419</td>\n",
       "      <td>0.000580</td>\n",
       "      <td>0.000676</td>\n",
       "      <td>0.000661</td>\n",
       "      <td>0.000634</td>\n",
       "      <td>0.000867</td>\n",
       "      <td>0.000197</td>\n",
       "      <td>0.000073</td>\n",
       "      <td>0.000175</td>\n",
       "      <td>0.000308</td>\n",
       "    </tr>\n",
       "    <tr>\n",
       "      <th>4</th>\n",
       "      <td>0.020395</td>\n",
       "      <td>0.103716</td>\n",
       "      <td>-0.011553</td>\n",
       "      <td>0.158194</td>\n",
       "      <td>0.002734</td>\n",
       "      <td>0.440871</td>\n",
       "      <td>0.614547</td>\n",
       "      <td>0.467590</td>\n",
       "      <td>-0.014669</td>\n",
       "      <td>0.997521</td>\n",
       "      <td>...</td>\n",
       "      <td>0.000694</td>\n",
       "      <td>-0.000010</td>\n",
       "      <td>0.000575</td>\n",
       "      <td>-0.000114</td>\n",
       "      <td>-0.000152</td>\n",
       "      <td>0.000184</td>\n",
       "      <td>0.000124</td>\n",
       "      <td>0.000038</td>\n",
       "      <td>0.000100</td>\n",
       "      <td>0.000054</td>\n",
       "    </tr>\n",
       "    <tr>\n",
       "      <th>...</th>\n",
       "      <td>...</td>\n",
       "      <td>...</td>\n",
       "      <td>...</td>\n",
       "      <td>...</td>\n",
       "      <td>...</td>\n",
       "      <td>...</td>\n",
       "      <td>...</td>\n",
       "      <td>...</td>\n",
       "      <td>...</td>\n",
       "      <td>...</td>\n",
       "      <td>...</td>\n",
       "      <td>...</td>\n",
       "      <td>...</td>\n",
       "      <td>...</td>\n",
       "      <td>...</td>\n",
       "      <td>...</td>\n",
       "      <td>...</td>\n",
       "      <td>...</td>\n",
       "      <td>...</td>\n",
       "      <td>...</td>\n",
       "      <td>...</td>\n",
       "    </tr>\n",
       "    <tr>\n",
       "      <th>4601</th>\n",
       "      <td>0.052135</td>\n",
       "      <td>0.144794</td>\n",
       "      <td>-0.006606</td>\n",
       "      <td>0.240878</td>\n",
       "      <td>0.020646</td>\n",
       "      <td>0.271194</td>\n",
       "      <td>0.225995</td>\n",
       "      <td>0.881381</td>\n",
       "      <td>0.005379</td>\n",
       "      <td>0.994505</td>\n",
       "      <td>...</td>\n",
       "      <td>-0.000545</td>\n",
       "      <td>-0.000600</td>\n",
       "      <td>-0.000175</td>\n",
       "      <td>0.002268</td>\n",
       "      <td>-0.000385</td>\n",
       "      <td>-0.000479</td>\n",
       "      <td>0.000173</td>\n",
       "      <td>0.000007</td>\n",
       "      <td>0.000175</td>\n",
       "      <td>0.000262</td>\n",
       "    </tr>\n",
       "    <tr>\n",
       "      <th>4602</th>\n",
       "      <td>0.024729</td>\n",
       "      <td>0.095180</td>\n",
       "      <td>-0.011631</td>\n",
       "      <td>0.142798</td>\n",
       "      <td>0.009566</td>\n",
       "      <td>0.585920</td>\n",
       "      <td>0.614501</td>\n",
       "      <td>0.400140</td>\n",
       "      <td>0.021457</td>\n",
       "      <td>0.997274</td>\n",
       "      <td>...</td>\n",
       "      <td>-0.000564</td>\n",
       "      <td>-0.000676</td>\n",
       "      <td>-0.000027</td>\n",
       "      <td>0.002525</td>\n",
       "      <td>-0.000309</td>\n",
       "      <td>-0.000812</td>\n",
       "      <td>0.000181</td>\n",
       "      <td>0.000085</td>\n",
       "      <td>0.000169</td>\n",
       "      <td>0.000282</td>\n",
       "    </tr>\n",
       "    <tr>\n",
       "      <th>4603</th>\n",
       "      <td>0.028358</td>\n",
       "      <td>0.090154</td>\n",
       "      <td>-0.019653</td>\n",
       "      <td>0.116305</td>\n",
       "      <td>0.018431</td>\n",
       "      <td>0.505623</td>\n",
       "      <td>0.794551</td>\n",
       "      <td>0.270870</td>\n",
       "      <td>-0.022388</td>\n",
       "      <td>0.976560</td>\n",
       "      <td>...</td>\n",
       "      <td>-0.001578</td>\n",
       "      <td>0.001058</td>\n",
       "      <td>-0.001697</td>\n",
       "      <td>0.003401</td>\n",
       "      <td>0.001250</td>\n",
       "      <td>-0.003081</td>\n",
       "      <td>0.000259</td>\n",
       "      <td>0.000125</td>\n",
       "      <td>0.000133</td>\n",
       "      <td>0.000326</td>\n",
       "    </tr>\n",
       "    <tr>\n",
       "      <th>4604</th>\n",
       "      <td>0.077388</td>\n",
       "      <td>0.183017</td>\n",
       "      <td>-0.000529</td>\n",
       "      <td>0.304763</td>\n",
       "      <td>0.034204</td>\n",
       "      <td>0.294205</td>\n",
       "      <td>0.748884</td>\n",
       "      <td>0.401188</td>\n",
       "      <td>-0.013685</td>\n",
       "      <td>0.996345</td>\n",
       "      <td>...</td>\n",
       "      <td>-0.000398</td>\n",
       "      <td>0.001736</td>\n",
       "      <td>-0.000684</td>\n",
       "      <td>-0.000418</td>\n",
       "      <td>0.003112</td>\n",
       "      <td>-0.001022</td>\n",
       "      <td>0.000144</td>\n",
       "      <td>0.000041</td>\n",
       "      <td>0.000114</td>\n",
       "      <td>0.000291</td>\n",
       "    </tr>\n",
       "    <tr>\n",
       "      <th>4605</th>\n",
       "      <td>0.021255</td>\n",
       "      <td>0.074394</td>\n",
       "      <td>0.009888</td>\n",
       "      <td>0.136399</td>\n",
       "      <td>0.009251</td>\n",
       "      <td>0.576959</td>\n",
       "      <td>0.547371</td>\n",
       "      <td>0.562165</td>\n",
       "      <td>-0.000014</td>\n",
       "      <td>0.992071</td>\n",
       "      <td>...</td>\n",
       "      <td>-0.001493</td>\n",
       "      <td>0.003148</td>\n",
       "      <td>-0.001931</td>\n",
       "      <td>0.001271</td>\n",
       "      <td>0.001787</td>\n",
       "      <td>0.000271</td>\n",
       "      <td>0.000254</td>\n",
       "      <td>0.000105</td>\n",
       "      <td>0.000235</td>\n",
       "      <td>0.000389</td>\n",
       "    </tr>\n",
       "  </tbody>\n",
       "</table>\n",
       "<p>4606 rows × 51 columns</p>\n",
       "</div>"
      ],
      "text/plain": [
       "      acc_ECDF Percentile_0  acc_ECDF Percentile_1  acc_Kurtosis   acc_Max  \\\n",
       "0                  0.015066               0.045585      0.012896  0.080286   \n",
       "1                  0.028742               0.108266     -0.007240  0.164571   \n",
       "2                  0.013705               0.061242      0.013395  0.134902   \n",
       "3                  0.031152               0.091593     -0.021013  0.116779   \n",
       "4                  0.020395               0.103716     -0.011553  0.158194   \n",
       "...                     ...                    ...           ...       ...   \n",
       "4601               0.052135               0.144794     -0.006606  0.240878   \n",
       "4602               0.024729               0.095180     -0.011631  0.142798   \n",
       "4603               0.028358               0.090154     -0.019653  0.116305   \n",
       "4604               0.077388               0.183017     -0.000529  0.304763   \n",
       "4605               0.021255               0.074394      0.009888  0.136399   \n",
       "\n",
       "       acc_Min  gyr_Histogram_7  gyr_Histogram_8  gyr_Histogram_9  \\\n",
       "0     0.007778         0.156857         0.888854         0.287570   \n",
       "1     0.013245         0.153182         0.891241         0.320290   \n",
       "2     0.006642         0.165323         0.606183         0.316868   \n",
       "3     0.017452         0.344263         0.791805         0.464755   \n",
       "4     0.002734         0.440871         0.614547         0.467590   \n",
       "...        ...              ...              ...              ...   \n",
       "4601  0.020646         0.271194         0.225995         0.881381   \n",
       "4602  0.009566         0.585920         0.614501         0.400140   \n",
       "4603  0.018431         0.505623         0.794551         0.270870   \n",
       "4604  0.034204         0.294205         0.748884         0.401188   \n",
       "4605  0.009251         0.576959         0.547371         0.562165   \n",
       "\n",
       "      gyr_Kurtosis  acc_Absolute energy  ...  gyr_MFCC_4  gyr_MFCC_5  \\\n",
       "0        -0.005336             0.946521  ...    0.000605    0.001641   \n",
       "1        -0.005156             0.997115  ...    0.000221    0.000853   \n",
       "2        -0.012525             0.992242  ...    0.000285    0.001135   \n",
       "3        -0.016394             0.990608  ...    0.000419    0.000580   \n",
       "4        -0.014669             0.997521  ...    0.000694   -0.000010   \n",
       "...            ...                  ...  ...         ...         ...   \n",
       "4601      0.005379             0.994505  ...   -0.000545   -0.000600   \n",
       "4602      0.021457             0.997274  ...   -0.000564   -0.000676   \n",
       "4603     -0.022388             0.976560  ...   -0.001578    0.001058   \n",
       "4604     -0.013685             0.996345  ...   -0.000398    0.001736   \n",
       "4605     -0.000014             0.992071  ...   -0.001493    0.003148   \n",
       "\n",
       "      gyr_MFCC_6  gyr_MFCC_7  gyr_MFCC_8  gyr_MFCC_9  gyr_Maximum frequency  \\\n",
       "0       0.000788   -0.000956    0.001788    0.001592               0.000262   \n",
       "1       0.000512   -0.000352    0.000284    0.000435               0.000121   \n",
       "2       0.001177    0.000705    0.000966    0.000931               0.000173   \n",
       "3       0.000676    0.000661    0.000634    0.000867               0.000197   \n",
       "4       0.000575   -0.000114   -0.000152    0.000184               0.000124   \n",
       "...          ...         ...         ...         ...                    ...   \n",
       "4601   -0.000175    0.002268   -0.000385   -0.000479               0.000173   \n",
       "4602   -0.000027    0.002525   -0.000309   -0.000812               0.000181   \n",
       "4603   -0.001697    0.003401    0.001250   -0.003081               0.000259   \n",
       "4604   -0.000684   -0.000418    0.003112   -0.001022               0.000144   \n",
       "4605   -0.001931    0.001271    0.001787    0.000271               0.000254   \n",
       "\n",
       "      gyr_Median frequency  gyr_Power bandwidth  \\\n",
       "0                 0.000106             0.000241   \n",
       "1                 0.000049             0.000111   \n",
       "2                 0.000069             0.000138   \n",
       "3                 0.000073             0.000175   \n",
       "4                 0.000038             0.000100   \n",
       "...                    ...                  ...   \n",
       "4601              0.000007             0.000175   \n",
       "4602              0.000085             0.000169   \n",
       "4603              0.000125             0.000133   \n",
       "4604              0.000041             0.000114   \n",
       "4605              0.000105             0.000235   \n",
       "\n",
       "      gyr_Spectral positive turning points  \n",
       "0                                 0.000117  \n",
       "1                                 0.000103  \n",
       "2                                 0.000076  \n",
       "3                                 0.000308  \n",
       "4                                 0.000054  \n",
       "...                                    ...  \n",
       "4601                              0.000262  \n",
       "4602                              0.000282  \n",
       "4603                              0.000326  \n",
       "4604                              0.000291  \n",
       "4605                              0.000389  \n",
       "\n",
       "[4606 rows x 51 columns]"
      ]
     },
     "execution_count": 16,
     "metadata": {},
     "output_type": "execute_result"
    }
   ],
   "source": [
    "NotFatig_Data"
   ]
  },
  {
   "cell_type": "code",
   "execution_count": 17,
   "id": "b9838969",
   "metadata": {},
   "outputs": [],
   "source": [
    "# Прописываем метки\n",
    "NotFatig_Data['class']  = 0\n",
    "AverFatig_Data['class'] = 1\n",
    "HighFatig_Data['class'] = 2"
   ]
  },
  {
   "cell_type": "code",
   "execution_count": 18,
   "id": "f4de065e",
   "metadata": {},
   "outputs": [],
   "source": [
    "# Объединяем в один датафрейм\n",
    "FeatureData = pd.concat([NotFatig_Data, AverFatig_Data, HighFatig_Data], axis=0) #AverFatig_Data"
   ]
  },
  {
   "cell_type": "code",
   "execution_count": 19,
   "id": "8b86a382",
   "metadata": {},
   "outputs": [
    {
     "data": {
      "text/html": [
       "<div>\n",
       "<style scoped>\n",
       "    .dataframe tbody tr th:only-of-type {\n",
       "        vertical-align: middle;\n",
       "    }\n",
       "\n",
       "    .dataframe tbody tr th {\n",
       "        vertical-align: top;\n",
       "    }\n",
       "\n",
       "    .dataframe thead th {\n",
       "        text-align: right;\n",
       "    }\n",
       "</style>\n",
       "<table border=\"1\" class=\"dataframe\">\n",
       "  <thead>\n",
       "    <tr style=\"text-align: right;\">\n",
       "      <th></th>\n",
       "      <th>acc_ECDF Percentile_0</th>\n",
       "      <th>acc_ECDF Percentile_1</th>\n",
       "      <th>acc_Kurtosis</th>\n",
       "      <th>acc_Max</th>\n",
       "      <th>acc_Min</th>\n",
       "      <th>gyr_Histogram_7</th>\n",
       "      <th>gyr_Histogram_8</th>\n",
       "      <th>gyr_Histogram_9</th>\n",
       "      <th>gyr_Kurtosis</th>\n",
       "      <th>acc_Absolute energy</th>\n",
       "      <th>...</th>\n",
       "      <th>acc_FFT mean coefficient_4</th>\n",
       "      <th>acc_FFT mean coefficient_8</th>\n",
       "      <th>acc_Spectral kurtosis</th>\n",
       "      <th>gyr_FFT mean coefficient_77</th>\n",
       "      <th>gyr_MFCC_0</th>\n",
       "      <th>gyr_MFCC_1</th>\n",
       "      <th>gyr_Spectral decrease</th>\n",
       "      <th>acc_FFT mean coefficient_15</th>\n",
       "      <th>gyr_MFCC_2</th>\n",
       "      <th>gyr_MFCC_3</th>\n",
       "    </tr>\n",
       "  </thead>\n",
       "  <tbody>\n",
       "    <tr>\n",
       "      <th>0</th>\n",
       "      <td>0.015066</td>\n",
       "      <td>0.045585</td>\n",
       "      <td>0.012896</td>\n",
       "      <td>0.080286</td>\n",
       "      <td>0.007778</td>\n",
       "      <td>0.156857</td>\n",
       "      <td>0.888854</td>\n",
       "      <td>0.287570</td>\n",
       "      <td>-0.005336</td>\n",
       "      <td>0.946521</td>\n",
       "      <td>...</td>\n",
       "      <td>NaN</td>\n",
       "      <td>NaN</td>\n",
       "      <td>NaN</td>\n",
       "      <td>NaN</td>\n",
       "      <td>NaN</td>\n",
       "      <td>NaN</td>\n",
       "      <td>NaN</td>\n",
       "      <td>NaN</td>\n",
       "      <td>NaN</td>\n",
       "      <td>NaN</td>\n",
       "    </tr>\n",
       "    <tr>\n",
       "      <th>1</th>\n",
       "      <td>0.028742</td>\n",
       "      <td>0.108266</td>\n",
       "      <td>-0.007240</td>\n",
       "      <td>0.164571</td>\n",
       "      <td>0.013245</td>\n",
       "      <td>0.153182</td>\n",
       "      <td>0.891241</td>\n",
       "      <td>0.320290</td>\n",
       "      <td>-0.005156</td>\n",
       "      <td>0.997115</td>\n",
       "      <td>...</td>\n",
       "      <td>NaN</td>\n",
       "      <td>NaN</td>\n",
       "      <td>NaN</td>\n",
       "      <td>NaN</td>\n",
       "      <td>NaN</td>\n",
       "      <td>NaN</td>\n",
       "      <td>NaN</td>\n",
       "      <td>NaN</td>\n",
       "      <td>NaN</td>\n",
       "      <td>NaN</td>\n",
       "    </tr>\n",
       "    <tr>\n",
       "      <th>2</th>\n",
       "      <td>0.013705</td>\n",
       "      <td>0.061242</td>\n",
       "      <td>0.013395</td>\n",
       "      <td>0.134902</td>\n",
       "      <td>0.006642</td>\n",
       "      <td>0.165323</td>\n",
       "      <td>0.606183</td>\n",
       "      <td>0.316868</td>\n",
       "      <td>-0.012525</td>\n",
       "      <td>0.992242</td>\n",
       "      <td>...</td>\n",
       "      <td>NaN</td>\n",
       "      <td>NaN</td>\n",
       "      <td>NaN</td>\n",
       "      <td>NaN</td>\n",
       "      <td>NaN</td>\n",
       "      <td>NaN</td>\n",
       "      <td>NaN</td>\n",
       "      <td>NaN</td>\n",
       "      <td>NaN</td>\n",
       "      <td>NaN</td>\n",
       "    </tr>\n",
       "    <tr>\n",
       "      <th>3</th>\n",
       "      <td>0.031152</td>\n",
       "      <td>0.091593</td>\n",
       "      <td>-0.021013</td>\n",
       "      <td>0.116779</td>\n",
       "      <td>0.017452</td>\n",
       "      <td>0.344263</td>\n",
       "      <td>0.791805</td>\n",
       "      <td>0.464755</td>\n",
       "      <td>-0.016394</td>\n",
       "      <td>0.990608</td>\n",
       "      <td>...</td>\n",
       "      <td>NaN</td>\n",
       "      <td>NaN</td>\n",
       "      <td>NaN</td>\n",
       "      <td>NaN</td>\n",
       "      <td>NaN</td>\n",
       "      <td>NaN</td>\n",
       "      <td>NaN</td>\n",
       "      <td>NaN</td>\n",
       "      <td>NaN</td>\n",
       "      <td>NaN</td>\n",
       "    </tr>\n",
       "    <tr>\n",
       "      <th>4</th>\n",
       "      <td>0.020395</td>\n",
       "      <td>0.103716</td>\n",
       "      <td>-0.011553</td>\n",
       "      <td>0.158194</td>\n",
       "      <td>0.002734</td>\n",
       "      <td>0.440871</td>\n",
       "      <td>0.614547</td>\n",
       "      <td>0.467590</td>\n",
       "      <td>-0.014669</td>\n",
       "      <td>0.997521</td>\n",
       "      <td>...</td>\n",
       "      <td>NaN</td>\n",
       "      <td>NaN</td>\n",
       "      <td>NaN</td>\n",
       "      <td>NaN</td>\n",
       "      <td>NaN</td>\n",
       "      <td>NaN</td>\n",
       "      <td>NaN</td>\n",
       "      <td>NaN</td>\n",
       "      <td>NaN</td>\n",
       "      <td>NaN</td>\n",
       "    </tr>\n",
       "  </tbody>\n",
       "</table>\n",
       "<p>5 rows × 67 columns</p>\n",
       "</div>"
      ],
      "text/plain": [
       "   acc_ECDF Percentile_0  acc_ECDF Percentile_1  acc_Kurtosis   acc_Max  \\\n",
       "0               0.015066               0.045585      0.012896  0.080286   \n",
       "1               0.028742               0.108266     -0.007240  0.164571   \n",
       "2               0.013705               0.061242      0.013395  0.134902   \n",
       "3               0.031152               0.091593     -0.021013  0.116779   \n",
       "4               0.020395               0.103716     -0.011553  0.158194   \n",
       "\n",
       "    acc_Min  gyr_Histogram_7  gyr_Histogram_8  gyr_Histogram_9  gyr_Kurtosis  \\\n",
       "0  0.007778         0.156857         0.888854         0.287570     -0.005336   \n",
       "1  0.013245         0.153182         0.891241         0.320290     -0.005156   \n",
       "2  0.006642         0.165323         0.606183         0.316868     -0.012525   \n",
       "3  0.017452         0.344263         0.791805         0.464755     -0.016394   \n",
       "4  0.002734         0.440871         0.614547         0.467590     -0.014669   \n",
       "\n",
       "   acc_Absolute energy  ...  acc_FFT mean coefficient_4  \\\n",
       "0             0.946521  ...                         NaN   \n",
       "1             0.997115  ...                         NaN   \n",
       "2             0.992242  ...                         NaN   \n",
       "3             0.990608  ...                         NaN   \n",
       "4             0.997521  ...                         NaN   \n",
       "\n",
       "   acc_FFT mean coefficient_8  acc_Spectral kurtosis  \\\n",
       "0                         NaN                    NaN   \n",
       "1                         NaN                    NaN   \n",
       "2                         NaN                    NaN   \n",
       "3                         NaN                    NaN   \n",
       "4                         NaN                    NaN   \n",
       "\n",
       "   gyr_FFT mean coefficient_77  gyr_MFCC_0  gyr_MFCC_1  gyr_Spectral decrease  \\\n",
       "0                          NaN         NaN         NaN                    NaN   \n",
       "1                          NaN         NaN         NaN                    NaN   \n",
       "2                          NaN         NaN         NaN                    NaN   \n",
       "3                          NaN         NaN         NaN                    NaN   \n",
       "4                          NaN         NaN         NaN                    NaN   \n",
       "\n",
       "   acc_FFT mean coefficient_15  gyr_MFCC_2  gyr_MFCC_3  \n",
       "0                          NaN         NaN         NaN  \n",
       "1                          NaN         NaN         NaN  \n",
       "2                          NaN         NaN         NaN  \n",
       "3                          NaN         NaN         NaN  \n",
       "4                          NaN         NaN         NaN  \n",
       "\n",
       "[5 rows x 67 columns]"
      ]
     },
     "execution_count": 19,
     "metadata": {},
     "output_type": "execute_result"
    }
   ],
   "source": [
    "#FeatureData#.dropna(axis=1)\n",
    "FeatureData.head()"
   ]
  },
  {
   "cell_type": "code",
   "execution_count": 20,
   "id": "59f698a4",
   "metadata": {},
   "outputs": [],
   "source": [
    "FeatureData = FeatureData.dropna(axis=1)"
   ]
  },
  {
   "cell_type": "code",
   "execution_count": 21,
   "id": "9d90d8fa",
   "metadata": {},
   "outputs": [
    {
     "data": {
      "text/plain": [
       "0    4606\n",
       "1    2167\n",
       "2    1922\n",
       "Name: class, dtype: int64"
      ]
     },
     "execution_count": 21,
     "metadata": {},
     "output_type": "execute_result"
    }
   ],
   "source": [
    "FeatureData['class'].value_counts()"
   ]
  },
  {
   "cell_type": "code",
   "execution_count": 22,
   "id": "d6692502",
   "metadata": {},
   "outputs": [],
   "source": [
    "FeatureData.to_csv('C:\\\\Users\\\\Virtus\\\\Desktop\\\\Muscule_fatigue\\\\isMuscle_notebook\\\\Feature.csv', index=False)"
   ]
  },
  {
   "cell_type": "code",
   "execution_count": 23,
   "id": "70b1c5a7",
   "metadata": {},
   "outputs": [],
   "source": [
    "X_train, X_test, y_train, y_test = train_test_split(FeatureData, FeatureData['class'], train_size=0.7, random_state=42)                                                    "
   ]
  },
  {
   "cell_type": "code",
   "execution_count": 24,
   "id": "8220a95c",
   "metadata": {
    "scrolled": true
   },
   "outputs": [
    {
     "name": "stdout",
     "output_type": "stream",
     "text": [
      "acc_ECDF Percentile_0                   1.834265e-03\n",
      "acc_ECDF Percentile_1                   8.015801e-03\n",
      "acc_Kurtosis                            7.986935e-04\n",
      "acc_Max                                 1.631118e-02\n",
      "acc_Min                                 7.446978e-04\n",
      "gyr_Histogram_7                         6.593902e-02\n",
      "gyr_Histogram_8                         7.262039e-02\n",
      "gyr_Histogram_9                         7.210189e-02\n",
      "gyr_Kurtosis                            7.027831e-04\n",
      "acc_Absolute energy                     1.184327e-04\n",
      "acc_Peak to peak distance               2.215309e-07\n",
      "gyr_Absolute energy                     2.810362e-03\n",
      "gyr_Negative turning points             5.867078e-05\n",
      "gyr_Neighbourhood peaks                 7.559682e-05\n",
      "acc_FFT mean coefficient_1              6.646737e-10\n",
      "acc_FFT mean coefficient_10             5.009364e-11\n",
      "acc_FFT mean coefficient_2              6.085615e-10\n",
      "acc_FFT mean coefficient_3              4.246018e-10\n",
      "acc_FFT mean coefficient_6              1.960587e-10\n",
      "acc_MFCC_0                              7.674513e-10\n",
      "acc_MFCC_10                             3.114414e-07\n",
      "acc_MFCC_2                              1.752566e-08\n",
      "acc_MFCC_3                              2.835047e-08\n",
      "acc_MFCC_4                              1.834124e-08\n",
      "acc_MFCC_5                              1.094416e-07\n",
      "acc_MFCC_6                              6.079708e-08\n",
      "acc_MFCC_7                              1.290497e-07\n",
      "acc_MFCC_8                              1.328252e-07\n",
      "acc_MFCC_9                              2.926811e-07\n",
      "acc_Maximum frequency                   7.915124e-10\n",
      "acc_Spectral distance                   1.755076e-11\n",
      "acc_Spectral positive turning points    4.018186e-09\n",
      "gyr_Fundamental frequency               2.169906e-10\n",
      "gyr_MFCC_5                              6.713432e-07\n",
      "gyr_MFCC_6                              5.682487e-07\n",
      "gyr_MFCC_7                              8.699384e-07\n",
      "gyr_Maximum frequency                   9.145377e-10\n",
      "gyr_Median frequency                    5.250642e-07\n",
      "gyr_Power bandwidth                     7.557064e-10\n",
      "gyr_Spectral positive turning points    8.799786e-09\n",
      "class                                   6.587118e-01\n",
      "dtype: float64\n",
      "acc_ECDF Percentile_0                   1.922982e-03\n",
      "acc_ECDF Percentile_1                   8.401504e-03\n",
      "acc_Kurtosis                            8.369214e-04\n",
      "acc_Max                                 1.691697e-02\n",
      "acc_Min                                 7.822786e-04\n",
      "gyr_Histogram_7                         6.523541e-02\n",
      "gyr_Histogram_8                         7.122081e-02\n",
      "gyr_Histogram_9                         7.116233e-02\n",
      "gyr_Kurtosis                            7.180559e-04\n",
      "acc_Absolute energy                     9.080653e-05\n",
      "acc_Peak to peak distance               2.286303e-07\n",
      "gyr_Absolute energy                     2.585077e-03\n",
      "gyr_Negative turning points             1.330294e-04\n",
      "gyr_Neighbourhood peaks                 8.871290e-05\n",
      "acc_FFT mean coefficient_1              6.329744e-10\n",
      "acc_FFT mean coefficient_10             4.541343e-11\n",
      "acc_FFT mean coefficient_2              5.460827e-10\n",
      "acc_FFT mean coefficient_3              4.630950e-10\n",
      "acc_FFT mean coefficient_6              1.787763e-10\n",
      "acc_MFCC_0                              1.808837e-09\n",
      "acc_MFCC_10                             3.365835e-07\n",
      "acc_MFCC_2                              1.932730e-08\n",
      "acc_MFCC_3                              3.033243e-08\n",
      "acc_MFCC_4                              2.578217e-08\n",
      "acc_MFCC_5                              8.833086e-08\n",
      "acc_MFCC_6                              6.672453e-08\n",
      "acc_MFCC_7                              1.313917e-07\n",
      "acc_MFCC_8                              1.498743e-07\n",
      "acc_MFCC_9                              3.340280e-07\n",
      "acc_Maximum frequency                   1.217343e-09\n",
      "acc_Spectral distance                   1.886089e-11\n",
      "acc_Spectral positive turning points    5.171275e-09\n",
      "gyr_Fundamental frequency               2.214411e-10\n",
      "gyr_MFCC_5                              6.894381e-07\n",
      "gyr_MFCC_6                              6.064006e-07\n",
      "gyr_MFCC_7                              8.889458e-07\n",
      "gyr_Maximum frequency                   1.362284e-09\n",
      "gyr_Median frequency                    2.661666e-10\n",
      "gyr_Power bandwidth                     1.236014e-09\n",
      "gyr_Spectral positive turning points    1.050812e-08\n",
      "class                                   6.484506e-01\n",
      "dtype: float64\n"
     ]
    }
   ],
   "source": [
    "print(X_train.var())\n",
    "print(X_test.var())"
   ]
  },
  {
   "cell_type": "code",
   "execution_count": 25,
   "id": "b46355b3",
   "metadata": {},
   "outputs": [],
   "source": [
    "a = pd.DataFrame(X_train.columns)\n",
    "a = a.transpose()\n",
    "a.to_excel('C:\\\\Users\\\\Virtus\\\\Desktop\\\\Muscule_fatigue\\\\Shapka.xlsx', index = False)"
   ]
  },
  {
   "cell_type": "code",
   "execution_count": 26,
   "id": "bef9e29d",
   "metadata": {},
   "outputs": [],
   "source": [
    "#X_train['class'].value_counts()\n",
    "#X_test['class'].value_counts()"
   ]
  },
  {
   "cell_type": "code",
   "execution_count": 27,
   "id": "676c4f67",
   "metadata": {},
   "outputs": [],
   "source": [
    "X_train = X_train.drop(columns=['class'], axis=1)\n",
    "X_test = X_test.drop(columns=['class'], axis=1)"
   ]
  },
  {
   "cell_type": "code",
   "execution_count": 28,
   "id": "35eb83a7",
   "metadata": {},
   "outputs": [
    {
     "data": {
      "text/plain": [
       "array(['Не_усталая', 'Средняя_усталость', 'Высокая_усталость'],\n",
       "      dtype=object)"
      ]
     },
     "execution_count": 28,
     "metadata": {},
     "output_type": "execute_result"
    }
   ],
   "source": [
    "activity_labels = np.array(pd.read_csv('C:\\\\Users\\\\Virtus\\\\Desktop\\\\Muscule_fatigue\\\\isMuscle_notebook\\\\activity_labels.txt', header=None, delimiter=' '))[:,1]\n",
    "activity_labels"
   ]
  },
  {
   "cell_type": "code",
   "execution_count": 29,
   "id": "edcbffc6",
   "metadata": {},
   "outputs": [
    {
     "name": "stdout",
     "output_type": "stream",
     "text": [
      "                   precision    recall  f1-score   support\n",
      "\n",
      "       Не_усталая       0.95      0.97      0.96      1382\n",
      "Средняя_усталость       0.89      0.84      0.86       662\n",
      "Высокая_усталость       0.90      0.90      0.90       565\n",
      "\n",
      "         accuracy                           0.92      2609\n",
      "        macro avg       0.91      0.90      0.91      2609\n",
      "     weighted avg       0.92      0.92      0.92      2609\n",
      "\n",
      "Accuracy: 92.25756995017248%\n"
     ]
    }
   ],
   "source": [
    "classifier = RandomForestClassifier(n_jobs=-1, random_state=42)\n",
    "# Train the classifier\n",
    "classifier.fit(X_train, y_train.ravel())\n",
    "\n",
    "# Predict test data\n",
    "y_test_predict = classifier.predict(X_test)\n",
    "\n",
    "# Get the classification report\n",
    "accuracy = accuracy_score(y_test, y_test_predict) * 100\n",
    "print(classification_report(y_test, y_test_predict, target_names=activity_labels))\n",
    "print(\"Accuracy: \" + str(accuracy) + '%')"
   ]
  },
  {
   "cell_type": "code",
   "execution_count": 30,
   "id": "683c11a6",
   "metadata": {},
   "outputs": [
    {
     "data": {
      "image/png": "[encoded data removed]",
      "text/plain": [
       "<Figure size 640x480 with 1 Axes>"
      ]
     },
     "metadata": {},
     "output_type": "display_data"
    }
   ],
   "source": [
    "#@title Confusion Matrix\n",
    "cm = confusion_matrix(y_test, y_test_predict)\n",
    "df_cm = pd.DataFrame(cm, index=[i for i in activity_labels], columns=[i for i in activity_labels])\n",
    "plt.figure()\n",
    "ax= sns.heatmap(df_cm,  cbar=False, cmap=\"BuGn\", annot=True, fmt=\"d\")\n",
    "plt.setp(ax.get_xticklabels(), rotation=45)\n",
    "\n",
    "plt.ylabel('Истинная метка', fontweight='bold', fontsize = 18)\n",
    "plt.xlabel('Предсказанная метка', fontweight='bold', fontsize = 18)\n",
    "bottom, top = ax.get_ylim()\n",
    "plt.show()"
   ]
  },
  {
   "cell_type": "code",
   "execution_count": 32,
   "id": "1fd9e646",
   "metadata": {},
   "outputs": [],
   "source": [
    "#Сохранение и загрузка модели\n",
    "with open('RandomForest.pkl', 'wb') as file:\n",
    "    pickle.dump(classifier, file)\n",
    "    \n",
    "with open('RandomForest.pkl', 'rb') as file:\n",
    "    classifier_new = pickle.load(file)    "
   ]
  },
  {
   "cell_type": "code",
   "execution_count": 33,
   "id": "0f2b6a96",
   "metadata": {},
   "outputs": [],
   "source": [
    "feature_names = X_train.columns"
   ]
  },
  {
   "cell_type": "code",
   "execution_count": 34,
   "id": "94e9129a",
   "metadata": {},
   "outputs": [
    {
     "data": {
      "text/plain": [
       "40"
      ]
     },
     "execution_count": 34,
     "metadata": {},
     "output_type": "execute_result"
    }
   ],
   "source": [
    "len(feature_names)"
   ]
  },
  {
   "cell_type": "code",
   "execution_count": 38,
   "id": "8cc93492",
   "metadata": {},
   "outputs": [
    {
     "data": {
      "image/png": "[encoded data removed]",
      "text/plain": [
       "<Figure size 640x480 with 1 Axes>"
      ]
     },
     "metadata": {},
     "output_type": "display_data"
    }
   ],
   "source": [
    "feature_imp = pd.Series(classifier.feature_importances_,index=feature_names).sort_values(ascending=False)\n",
    "sns.barplot(x=feature_imp[0:18], y=feature_imp.index[0:18])\n",
    "\n",
    "plt.xlabel('Важность признаков')\n",
    "plt.ylabel('Признаки')\n",
    "plt.title('Визуализация важных признаков')\n",
    "plt.show()"
   ]
  },
  {
   "cell_type": "code",
   "execution_count": 39,
   "id": "e411c391",
   "metadata": {
    "scrolled": true
   },
   "outputs": [
    {
     "data": {
      "text/plain": [
       "acc_MFCC_10                             0.099013\n",
       "acc_MFCC_7                              0.082854\n",
       "gyr_Spectral positive turning points    0.071499\n",
       "acc_MFCC_3                              0.063897\n",
       "acc_MFCC_5                              0.058580\n",
       "acc_Spectral distance                   0.058360\n",
       "acc_MFCC_9                              0.050045\n",
       "acc_MFCC_8                              0.039728\n",
       "gyr_Fundamental frequency               0.038313\n",
       "gyr_Maximum frequency                   0.035164\n",
       "gyr_Neighbourhood peaks                 0.034921\n",
       "acc_MFCC_2                              0.032129\n",
       "acc_MFCC_6                              0.022251\n",
       "acc_MFCC_0                              0.021998\n",
       "gyr_Negative turning points             0.019516\n",
       "acc_Maximum frequency                   0.019072\n",
       "gyr_Power bandwidth                     0.018629\n",
       "acc_Max                                 0.015886\n",
       "dtype: float64"
      ]
     },
     "execution_count": 39,
     "metadata": {},
     "output_type": "execute_result"
    }
   ],
   "source": [
    "feature_imp[0:18]"
   ]
  },
  {
   "cell_type": "code",
   "execution_count": 40,
   "id": "db9dceca",
   "metadata": {},
   "outputs": [
    {
     "name": "stdout",
     "output_type": "stream",
     "text": [
      "0.9127501339129708\n"
     ]
    }
   ],
   "source": [
    "# Среднее по кросс-валидации\n",
    "print(np.mean(cross_val_score(classifier, X_train, y_train, cv=5)))"
   ]
  },
  {
   "cell_type": "code",
   "execution_count": 44,
   "id": "5ce98393",
   "metadata": {},
   "outputs": [
    {
     "name": "stdout",
     "output_type": "stream",
     "text": [
      "Fitting 3 folds for each of 100 candidates, totalling 300 fits\n"
     ]
    },
    {
     "ename": "KeyboardInterrupt",
     "evalue": "",
     "output_type": "error",
     "traceback": [
      "\u001b[1;31m---------------------------------------------------------------------------\u001b[0m",
      "\u001b[1;31mKeyboardInterrupt\u001b[0m                         Traceback (most recent call last)",
      "\u001b[1;32m~\\AppData\\Local\\Temp\\ipykernel_8536\\1766803505.py\u001b[0m in \u001b[0;36m<module>\u001b[1;34m\u001b[0m\n\u001b[0;32m     21\u001b[0m                         \u001b[0mn_jobs\u001b[0m\u001b[1;33m=\u001b[0m\u001b[1;33m-\u001b[0m\u001b[1;36m1\u001b[0m\u001b[1;33m,\u001b[0m\u001b[1;33m\u001b[0m\u001b[1;33m\u001b[0m\u001b[0m\n\u001b[0;32m     22\u001b[0m                         random_state=0)\n\u001b[1;32m---> 23\u001b[1;33m \u001b[0mrs\u001b[0m\u001b[1;33m.\u001b[0m\u001b[0mfit\u001b[0m\u001b[1;33m(\u001b[0m\u001b[0mX_train\u001b[0m\u001b[1;33m,\u001b[0m \u001b[0my_train\u001b[0m\u001b[1;33m)\u001b[0m\u001b[1;33m\u001b[0m\u001b[1;33m\u001b[0m\u001b[0m\n\u001b[0m\u001b[0;32m     24\u001b[0m \u001b[0mrs\u001b[0m\u001b[1;33m.\u001b[0m\u001b[0mbest_params_\u001b[0m\u001b[1;33m\u001b[0m\u001b[1;33m\u001b[0m\u001b[0m\n",
      "\u001b[1;32m~\\anaconda3\\lib\\site-packages\\sklearn\\model_selection\\_search.py\u001b[0m in \u001b[0;36mfit\u001b[1;34m(self, X, y, groups, **fit_params)\u001b[0m\n\u001b[0;32m    889\u001b[0m                 \u001b[1;32mreturn\u001b[0m \u001b[0mresults\u001b[0m\u001b[1;33m\u001b[0m\u001b[1;33m\u001b[0m\u001b[0m\n\u001b[0;32m    890\u001b[0m \u001b[1;33m\u001b[0m\u001b[0m\n\u001b[1;32m--> 891\u001b[1;33m             \u001b[0mself\u001b[0m\u001b[1;33m.\u001b[0m\u001b[0m_run_search\u001b[0m\u001b[1;33m(\u001b[0m\u001b[0mevaluate_candidates\u001b[0m\u001b[1;33m)\u001b[0m\u001b[1;33m\u001b[0m\u001b[1;33m\u001b[0m\u001b[0m\n\u001b[0m\u001b[0;32m    892\u001b[0m \u001b[1;33m\u001b[0m\u001b[0m\n\u001b[0;32m    893\u001b[0m             \u001b[1;31m# multimetric is determined here because in the case of a callable\u001b[0m\u001b[1;33m\u001b[0m\u001b[1;33m\u001b[0m\u001b[0m\n",
      "\u001b[1;32m~\\anaconda3\\lib\\site-packages\\sklearn\\model_selection\\_search.py\u001b[0m in \u001b[0;36m_run_search\u001b[1;34m(self, evaluate_candidates)\u001b[0m\n\u001b[0;32m   1764\u001b[0m     \u001b[1;32mdef\u001b[0m \u001b[0m_run_search\u001b[0m\u001b[1;33m(\u001b[0m\u001b[0mself\u001b[0m\u001b[1;33m,\u001b[0m \u001b[0mevaluate_candidates\u001b[0m\u001b[1;33m)\u001b[0m\u001b[1;33m:\u001b[0m\u001b[1;33m\u001b[0m\u001b[1;33m\u001b[0m\u001b[0m\n\u001b[0;32m   1765\u001b[0m         \u001b[1;34m\"\"\"Search n_iter candidates from param_distributions\"\"\"\u001b[0m\u001b[1;33m\u001b[0m\u001b[1;33m\u001b[0m\u001b[0m\n\u001b[1;32m-> 1766\u001b[1;33m         evaluate_candidates(\n\u001b[0m\u001b[0;32m   1767\u001b[0m             ParameterSampler(\n\u001b[0;32m   1768\u001b[0m                 \u001b[0mself\u001b[0m\u001b[1;33m.\u001b[0m\u001b[0mparam_distributions\u001b[0m\u001b[1;33m,\u001b[0m \u001b[0mself\u001b[0m\u001b[1;33m.\u001b[0m\u001b[0mn_iter\u001b[0m\u001b[1;33m,\u001b[0m \u001b[0mrandom_state\u001b[0m\u001b[1;33m=\u001b[0m\u001b[0mself\u001b[0m\u001b[1;33m.\u001b[0m\u001b[0mrandom_state\u001b[0m\u001b[1;33m\u001b[0m\u001b[1;33m\u001b[0m\u001b[0m\n",
      "\u001b[1;32m~\\anaconda3\\lib\\site-packages\\sklearn\\model_selection\\_search.py\u001b[0m in \u001b[0;36mevaluate_candidates\u001b[1;34m(candidate_params, cv, more_results)\u001b[0m\n\u001b[0;32m    836\u001b[0m                     )\n\u001b[0;32m    837\u001b[0m \u001b[1;33m\u001b[0m\u001b[0m\n\u001b[1;32m--> 838\u001b[1;33m                 out = parallel(\n\u001b[0m\u001b[0;32m    839\u001b[0m                     delayed(_fit_and_score)(\n\u001b[0;32m    840\u001b[0m                         \u001b[0mclone\u001b[0m\u001b[1;33m(\u001b[0m\u001b[0mbase_estimator\u001b[0m\u001b[1;33m)\u001b[0m\u001b[1;33m,\u001b[0m\u001b[1;33m\u001b[0m\u001b[1;33m\u001b[0m\u001b[0m\n",
      "\u001b[1;32m~\\anaconda3\\lib\\site-packages\\joblib\\parallel.py\u001b[0m in \u001b[0;36m__call__\u001b[1;34m(self, iterable)\u001b[0m\n\u001b[0;32m   1054\u001b[0m \u001b[1;33m\u001b[0m\u001b[0m\n\u001b[0;32m   1055\u001b[0m             \u001b[1;32mwith\u001b[0m \u001b[0mself\u001b[0m\u001b[1;33m.\u001b[0m\u001b[0m_backend\u001b[0m\u001b[1;33m.\u001b[0m\u001b[0mretrieval_context\u001b[0m\u001b[1;33m(\u001b[0m\u001b[1;33m)\u001b[0m\u001b[1;33m:\u001b[0m\u001b[1;33m\u001b[0m\u001b[1;33m\u001b[0m\u001b[0m\n\u001b[1;32m-> 1056\u001b[1;33m                 \u001b[0mself\u001b[0m\u001b[1;33m.\u001b[0m\u001b[0mretrieve\u001b[0m\u001b[1;33m(\u001b[0m\u001b[1;33m)\u001b[0m\u001b[1;33m\u001b[0m\u001b[1;33m\u001b[0m\u001b[0m\n\u001b[0m\u001b[0;32m   1057\u001b[0m             \u001b[1;31m# Make sure that we get a last message telling us we are done\u001b[0m\u001b[1;33m\u001b[0m\u001b[1;33m\u001b[0m\u001b[0m\n\u001b[0;32m   1058\u001b[0m             \u001b[0melapsed_time\u001b[0m \u001b[1;33m=\u001b[0m \u001b[0mtime\u001b[0m\u001b[1;33m.\u001b[0m\u001b[0mtime\u001b[0m\u001b[1;33m(\u001b[0m\u001b[1;33m)\u001b[0m \u001b[1;33m-\u001b[0m \u001b[0mself\u001b[0m\u001b[1;33m.\u001b[0m\u001b[0m_start_time\u001b[0m\u001b[1;33m\u001b[0m\u001b[1;33m\u001b[0m\u001b[0m\n",
      "\u001b[1;32m~\\anaconda3\\lib\\site-packages\\joblib\\parallel.py\u001b[0m in \u001b[0;36mretrieve\u001b[1;34m(self)\u001b[0m\n\u001b[0;32m    933\u001b[0m             \u001b[1;32mtry\u001b[0m\u001b[1;33m:\u001b[0m\u001b[1;33m\u001b[0m\u001b[1;33m\u001b[0m\u001b[0m\n\u001b[0;32m    934\u001b[0m                 \u001b[1;32mif\u001b[0m \u001b[0mgetattr\u001b[0m\u001b[1;33m(\u001b[0m\u001b[0mself\u001b[0m\u001b[1;33m.\u001b[0m\u001b[0m_backend\u001b[0m\u001b[1;33m,\u001b[0m \u001b[1;34m'supports_timeout'\u001b[0m\u001b[1;33m,\u001b[0m \u001b[1;32mFalse\u001b[0m\u001b[1;33m)\u001b[0m\u001b[1;33m:\u001b[0m\u001b[1;33m\u001b[0m\u001b[1;33m\u001b[0m\u001b[0m\n\u001b[1;32m--> 935\u001b[1;33m                     \u001b[0mself\u001b[0m\u001b[1;33m.\u001b[0m\u001b[0m_output\u001b[0m\u001b[1;33m.\u001b[0m\u001b[0mextend\u001b[0m\u001b[1;33m(\u001b[0m\u001b[0mjob\u001b[0m\u001b[1;33m.\u001b[0m\u001b[0mget\u001b[0m\u001b[1;33m(\u001b[0m\u001b[0mtimeout\u001b[0m\u001b[1;33m=\u001b[0m\u001b[0mself\u001b[0m\u001b[1;33m.\u001b[0m\u001b[0mtimeout\u001b[0m\u001b[1;33m)\u001b[0m\u001b[1;33m)\u001b[0m\u001b[1;33m\u001b[0m\u001b[1;33m\u001b[0m\u001b[0m\n\u001b[0m\u001b[0;32m    936\u001b[0m                 \u001b[1;32melse\u001b[0m\u001b[1;33m:\u001b[0m\u001b[1;33m\u001b[0m\u001b[1;33m\u001b[0m\u001b[0m\n\u001b[0;32m    937\u001b[0m                     \u001b[0mself\u001b[0m\u001b[1;33m.\u001b[0m\u001b[0m_output\u001b[0m\u001b[1;33m.\u001b[0m\u001b[0mextend\u001b[0m\u001b[1;33m(\u001b[0m\u001b[0mjob\u001b[0m\u001b[1;33m.\u001b[0m\u001b[0mget\u001b[0m\u001b[1;33m(\u001b[0m\u001b[1;33m)\u001b[0m\u001b[1;33m)\u001b[0m\u001b[1;33m\u001b[0m\u001b[1;33m\u001b[0m\u001b[0m\n",
      "\u001b[1;32m~\\anaconda3\\lib\\site-packages\\joblib\\_parallel_backends.py\u001b[0m in \u001b[0;36mwrap_future_result\u001b[1;34m(future, timeout)\u001b[0m\n\u001b[0;32m    540\u001b[0m         AsyncResults.get from multiprocessing.\"\"\"\n\u001b[0;32m    541\u001b[0m         \u001b[1;32mtry\u001b[0m\u001b[1;33m:\u001b[0m\u001b[1;33m\u001b[0m\u001b[1;33m\u001b[0m\u001b[0m\n\u001b[1;32m--> 542\u001b[1;33m             \u001b[1;32mreturn\u001b[0m \u001b[0mfuture\u001b[0m\u001b[1;33m.\u001b[0m\u001b[0mresult\u001b[0m\u001b[1;33m(\u001b[0m\u001b[0mtimeout\u001b[0m\u001b[1;33m=\u001b[0m\u001b[0mtimeout\u001b[0m\u001b[1;33m)\u001b[0m\u001b[1;33m\u001b[0m\u001b[1;33m\u001b[0m\u001b[0m\n\u001b[0m\u001b[0;32m    543\u001b[0m         \u001b[1;32mexcept\u001b[0m \u001b[0mCfTimeoutError\u001b[0m \u001b[1;32mas\u001b[0m \u001b[0me\u001b[0m\u001b[1;33m:\u001b[0m\u001b[1;33m\u001b[0m\u001b[1;33m\u001b[0m\u001b[0m\n\u001b[0;32m    544\u001b[0m             \u001b[1;32mraise\u001b[0m \u001b[0mTimeoutError\u001b[0m \u001b[1;32mfrom\u001b[0m \u001b[0me\u001b[0m\u001b[1;33m\u001b[0m\u001b[1;33m\u001b[0m\u001b[0m\n",
      "\u001b[1;32m~\\anaconda3\\lib\\concurrent\\futures\\_base.py\u001b[0m in \u001b[0;36mresult\u001b[1;34m(self, timeout)\u001b[0m\n\u001b[0;32m    439\u001b[0m                     \u001b[1;32mreturn\u001b[0m \u001b[0mself\u001b[0m\u001b[1;33m.\u001b[0m\u001b[0m__get_result\u001b[0m\u001b[1;33m(\u001b[0m\u001b[1;33m)\u001b[0m\u001b[1;33m\u001b[0m\u001b[1;33m\u001b[0m\u001b[0m\n\u001b[0;32m    440\u001b[0m \u001b[1;33m\u001b[0m\u001b[0m\n\u001b[1;32m--> 441\u001b[1;33m                 \u001b[0mself\u001b[0m\u001b[1;33m.\u001b[0m\u001b[0m_condition\u001b[0m\u001b[1;33m.\u001b[0m\u001b[0mwait\u001b[0m\u001b[1;33m(\u001b[0m\u001b[0mtimeout\u001b[0m\u001b[1;33m)\u001b[0m\u001b[1;33m\u001b[0m\u001b[1;33m\u001b[0m\u001b[0m\n\u001b[0m\u001b[0;32m    442\u001b[0m \u001b[1;33m\u001b[0m\u001b[0m\n\u001b[0;32m    443\u001b[0m                 \u001b[1;32mif\u001b[0m \u001b[0mself\u001b[0m\u001b[1;33m.\u001b[0m\u001b[0m_state\u001b[0m \u001b[1;32min\u001b[0m \u001b[1;33m[\u001b[0m\u001b[0mCANCELLED\u001b[0m\u001b[1;33m,\u001b[0m \u001b[0mCANCELLED_AND_NOTIFIED\u001b[0m\u001b[1;33m]\u001b[0m\u001b[1;33m:\u001b[0m\u001b[1;33m\u001b[0m\u001b[1;33m\u001b[0m\u001b[0m\n",
      "\u001b[1;32m~\\anaconda3\\lib\\threading.py\u001b[0m in \u001b[0;36mwait\u001b[1;34m(self, timeout)\u001b[0m\n\u001b[0;32m    310\u001b[0m         \u001b[1;32mtry\u001b[0m\u001b[1;33m:\u001b[0m    \u001b[1;31m# restore state no matter what (e.g., KeyboardInterrupt)\u001b[0m\u001b[1;33m\u001b[0m\u001b[1;33m\u001b[0m\u001b[0m\n\u001b[0;32m    311\u001b[0m             \u001b[1;32mif\u001b[0m \u001b[0mtimeout\u001b[0m \u001b[1;32mis\u001b[0m \u001b[1;32mNone\u001b[0m\u001b[1;33m:\u001b[0m\u001b[1;33m\u001b[0m\u001b[1;33m\u001b[0m\u001b[0m\n\u001b[1;32m--> 312\u001b[1;33m                 \u001b[0mwaiter\u001b[0m\u001b[1;33m.\u001b[0m\u001b[0macquire\u001b[0m\u001b[1;33m(\u001b[0m\u001b[1;33m)\u001b[0m\u001b[1;33m\u001b[0m\u001b[1;33m\u001b[0m\u001b[0m\n\u001b[0m\u001b[0;32m    313\u001b[0m                 \u001b[0mgotit\u001b[0m \u001b[1;33m=\u001b[0m \u001b[1;32mTrue\u001b[0m\u001b[1;33m\u001b[0m\u001b[1;33m\u001b[0m\u001b[0m\n\u001b[0;32m    314\u001b[0m             \u001b[1;32melse\u001b[0m\u001b[1;33m:\u001b[0m\u001b[1;33m\u001b[0m\u001b[1;33m\u001b[0m\u001b[0m\n",
      "\u001b[1;31mKeyboardInterrupt\u001b[0m: "
     ]
    }
   ],
   "source": [
    "# Нахождение оптимальных диапазонов через RandomizedSearchCV\n",
    "from sklearn.model_selection import RandomizedSearchCV\n",
    "\n",
    "n_estimators = [int(x) for x in np.linspace(start = 100, stop = 1000, num = 10)]\n",
    "max_features = ['log2', 'sqrt']\n",
    "max_depth = [int(x) for x in np.linspace(start = 1, stop = 15, num = 15)]\n",
    "min_samples_split = [int(x) for x in np.linspace(start = 2, stop = 50, num = 10)]\n",
    "min_samples_leaf = [int(x) for x in np.linspace(start = 2, stop = 50, num = 10)]\n",
    "bootstrap = [True, False]\n",
    "param_dist = {'n_estimators': n_estimators,\n",
    "               'max_features': max_features,\n",
    "               'max_depth': max_depth,\n",
    "               'min_samples_split': min_samples_split,\n",
    "               'min_samples_leaf': min_samples_leaf,\n",
    "               'bootstrap': bootstrap}\n",
    "rs = RandomizedSearchCV(classifier, \n",
    "                        param_dist, \n",
    "                        n_iter = 100, \n",
    "                        cv = 3, \n",
    "                        verbose = 1, \n",
    "                        n_jobs=-1, \n",
    "                        random_state=0)\n",
    "rs.fit(X_train, y_train)\n",
    "rs.best_params_"
   ]
  },
  {
   "cell_type": "code",
   "execution_count": null,
   "id": "51711eeb",
   "metadata": {},
   "outputs": [],
   "source": []
  },
  {
   "cell_type": "code",
   "execution_count": 64,
   "id": "f68898ce",
   "metadata": {
    "scrolled": false
   },
   "outputs": [
    {
     "data": {
      "text/plain": [
       "Text(0, 0.5, 'Ошибка')"
      ]
     },
     "execution_count": 64,
     "metadata": {},
     "output_type": "execute_result"
    },
    {
     "data": {
      "image/png": "[encoded data removed]",
      "text/plain": [
       "<Figure size 640x480 with 1 Axes>"
      ]
     },
     "metadata": {},
     "output_type": "display_data"
    }
   ],
   "source": [
    "# Проверка на оптимальное количество деревьев в лесу (n_estimators)\n",
    "\n",
    "x = list()\n",
    "y = list()\n",
    "\n",
    "for n in range(1,401,10):  \n",
    "    classifier = RandomForestClassifier(random_state=42, n_jobs=-1, n_estimators = n)\n",
    "    classifier.fit(X_train, y_train)\n",
    "    x.append(f1_score(y_train, classifier.predict(X_train), average='micro'))\n",
    "    y.append(f1_score(y_test, classifier.predict(X_test), average='micro'))\n",
    "    \n",
    "x = 1-pd.DataFrame(x)   \n",
    "y = 1-pd.DataFrame(y) \n",
    "#plt.title(\"plt.title('Training vs. Validation Error')\")\n",
    "\n",
    "n = range(1,401,10)\n",
    "fig1 = plt.figure()\n",
    "ax1 = fig1.add_subplot(111)\n",
    "ax1.plot(n, x, label = 'Обучающие')\n",
    "ax1.plot(n, y, label = 'Тренировочные')\n",
    "plt.legend()\n",
    "plt.xlabel(\"Количество деревьев\")\n",
    "plt.ylabel(\"Ошибка\")"
   ]
  },
  {
   "cell_type": "code",
   "execution_count": 65,
   "id": "0d27bd0a",
   "metadata": {},
   "outputs": [
    {
     "data": {
      "text/plain": [
       "Text(0, 0.5, 'Ошибка')"
      ]
     },
     "execution_count": 65,
     "metadata": {},
     "output_type": "execute_result"
    },
    {
     "data": {
      "image/png": "[encoded data removed]",
      "text/plain": [
       "<Figure size 640x480 with 1 Axes>"
      ]
     },
     "metadata": {},
     "output_type": "display_data"
    }
   ],
   "source": [
    "# Проверка на оптимальную глубину дерева (max_depth)\n",
    "\n",
    "x = list()\n",
    "y = list()\n",
    "\n",
    "for n in range(1,102,10):  \n",
    "    classifier = RandomForestClassifier(random_state=42, n_jobs=-1, max_depth = n)\n",
    "    classifier.fit(X_train, y_train)\n",
    "    x.append(f1_score(y_train, classifier.predict(X_train), average='micro'))\n",
    "    y.append(f1_score(y_test, classifier.predict(X_test), average='micro'))\n",
    "    \n",
    "x = 1-pd.DataFrame(x)   \n",
    "y = 1-pd.DataFrame(y) \n",
    "# # #plt.title(\"\")\n",
    "\n",
    "n = range(1,102,10)\n",
    "fig1 = plt.figure()\n",
    "ax1 = fig1.add_subplot(111)\n",
    "ax1.plot(n, x, label = 'Обучающие')\n",
    "ax1.plot(n, y, label = 'Тренировочные')\n",
    "plt.legend()\n",
    "plt.xlabel(\"Глубина дерева\")\n",
    "plt.ylabel(\"Ошибка\")"
   ]
  },
  {
   "cell_type": "code",
   "execution_count": 66,
   "id": "73dea8f2",
   "metadata": {},
   "outputs": [
    {
     "data": {
      "text/plain": [
       "Text(0, 0.5, 'Ошибка')"
      ]
     },
     "execution_count": 66,
     "metadata": {},
     "output_type": "execute_result"
    },
    {
     "data": {
      "image/png": "[encoded data removed]",
      "text/plain": [
       "<Figure size 640x480 with 1 Axes>"
      ]
     },
     "metadata": {},
     "output_type": "display_data"
    }
   ],
   "source": [
    "# Проверка на оптимальное количество листов (max_leaf_nodes)\n",
    "\n",
    "x = list()\n",
    "y = list()\n",
    "\n",
    "for n in range(2,1000,10):  \n",
    "    classifier = RandomForestClassifier(random_state=42, n_jobs=-1, max_leaf_nodes = n)\n",
    "    classifier.fit(X_train, y_train)\n",
    "    x.append(f1_score(y_train, classifier.predict(X_train), average='micro'))\n",
    "    y.append(f1_score(y_test, classifier.predict(X_test), average='micro'))\n",
    "    \n",
    "x = 1-pd.DataFrame(x)   \n",
    "y = 1-pd.DataFrame(y) \n",
    "# # #plt.title(\"\")\n",
    "\n",
    "n = range(2,1000,10)\n",
    "fig1 = plt.figure()\n",
    "ax1 = fig1.add_subplot(111)\n",
    "ax1.plot(n, x, label = 'Обучающие')\n",
    "ax1.plot(n, y, label = 'Тренировочные')\n",
    "plt.legend()\n",
    "plt.xlabel(\"Количество листов\")\n",
    "plt.ylabel(\"Ошибка\")"
   ]
  },
  {
   "cell_type": "code",
   "execution_count": 67,
   "id": "32fcd045",
   "metadata": {},
   "outputs": [
    {
     "data": {
      "text/plain": [
       "Text(0, 0.5, 'Ошибка')"
      ]
     },
     "execution_count": 67,
     "metadata": {},
     "output_type": "execute_result"
    },
    {
     "data": {
      "image/png": "[encoded data removed]",
      "text/plain": [
       "<Figure size 640x480 with 1 Axes>"
      ]
     },
     "metadata": {},
     "output_type": "display_data"
    }
   ],
   "source": [
    "# Проверка на оптимальное количество признаков (max_features)\n",
    "\n",
    "x = list()\n",
    "y = list()\n",
    "\n",
    "for n in range(1,41):  \n",
    "    classifier = RandomForestClassifier(random_state=42, n_jobs=-1, max_features = n)\n",
    "    classifier.fit(X_train, y_train)\n",
    "    x.append(f1_score(y_train, classifier.predict(X_train), average='micro'))\n",
    "    y.append(f1_score(y_test, classifier.predict(X_test), average='micro'))\n",
    "    \n",
    "x = 1-pd.DataFrame(x)   \n",
    "y = 1-pd.DataFrame(y) \n",
    "# # #plt.title(\"\")\n",
    "\n",
    "n = range(1,41)\n",
    "fig1 = plt.figure()\n",
    "ax1 = fig1.add_subplot(111)\n",
    "ax1.plot(n, x, label = 'Обучающие')\n",
    "ax1.plot(n, y, label = 'Тренировочные')\n",
    "plt.legend()\n",
    "plt.xlabel(\"Максимальное количество признаков для разбиения\")\n",
    "plt.ylabel(\"Ошибка\")"
   ]
  },
  {
   "cell_type": "code",
   "execution_count": 68,
   "id": "e29158f0",
   "metadata": {},
   "outputs": [
    {
     "data": {
      "text/plain": [
       "Text(0, 0.5, 'Ошибка')"
      ]
     },
     "execution_count": 68,
     "metadata": {},
     "output_type": "execute_result"
    },
    {
     "data": {
      "image/png": "[encoded data removed]",
      "text/plain": [
       "<Figure size 640x480 with 1 Axes>"
      ]
     },
     "metadata": {},
     "output_type": "display_data"
    }
   ],
   "source": [
    "# Проверка на оптимальное разбиение (min_samples_split и min_samples_leaf)\n",
    "\n",
    "x = list()\n",
    "y = list()\n",
    "\n",
    "for n in range(2,41):  \n",
    "    classifier = RandomForestClassifier(random_state=42, n_jobs=-1, min_samples_split = n)\n",
    "    classifier.fit(X_train, y_train)\n",
    "    x.append(f1_score(y_train, classifier.predict(X_train), average='micro'))\n",
    "    y.append(f1_score(y_test, classifier.predict(X_test), average='micro'))\n",
    "    \n",
    "x = 1-pd.DataFrame(x)   \n",
    "y = 1-pd.DataFrame(y) \n",
    "# # #plt.title(\"\")\n",
    "\n",
    "n = range(2,41)\n",
    "fig1 = plt.figure()\n",
    "ax1 = fig1.add_subplot(111)\n",
    "ax1.plot(n, x, label = 'Обучающие')\n",
    "ax1.plot(n, y, label = 'Тренировочные')\n",
    "plt.legend()\n",
    "plt.xlabel(\"min_samples_split\")\n",
    "plt.ylabel(\"Ошибка\")"
   ]
  },
  {
   "cell_type": "code",
   "execution_count": 69,
   "id": "98df4b79",
   "metadata": {},
   "outputs": [
    {
     "data": {
      "text/plain": [
       "Text(0, 0.5, 'Ошибка')"
      ]
     },
     "execution_count": 69,
     "metadata": {},
     "output_type": "execute_result"
    },
    {
     "data": {
      "image/png": "[encoded data removed]",
      "text/plain": [
       "<Figure size 640x480 with 1 Axes>"
      ]
     },
     "metadata": {},
     "output_type": "display_data"
    }
   ],
   "source": [
    "# Проверка на оптимальное разбиение (min_samples_split и min_samples_leaf)\n",
    "\n",
    "x = list()\n",
    "y = list()\n",
    "\n",
    "for n in range(2,41):  \n",
    "    classifier = RandomForestClassifier(random_state=42, n_jobs=-1, min_samples_leaf = n)\n",
    "    classifier.fit(X_train, y_train)\n",
    "    x.append(f1_score(y_train, classifier.predict(X_train), average='micro'))\n",
    "    y.append(f1_score(y_test, classifier.predict(X_test), average='micro'))\n",
    "    \n",
    "x = 1-pd.DataFrame(x)   \n",
    "y = 1-pd.DataFrame(y) \n",
    "# # #plt.title(\"\")\n",
    "\n",
    "n = range(2,41)\n",
    "fig1 = plt.figure()\n",
    "ax1 = fig1.add_subplot(111)\n",
    "ax1.plot(n, x, label = 'Обучающие')\n",
    "ax1.plot(n, y, label = 'Тренировочные')\n",
    "plt.legend()\n",
    "plt.xlabel(\"min_samples_leaf\")\n",
    "plt.ylabel(\"Ошибка\")"
   ]
  },
  {
   "cell_type": "code",
   "execution_count": 62,
   "id": "1137fad8",
   "metadata": {},
   "outputs": [
    {
     "name": "stdout",
     "output_type": "stream",
     "text": [
      "1.0 0.9225756995017248\n",
      "1.0 0.9225756995017248\n",
      "1.0 0.9256420084323496\n",
      "0.9983568846533026 0.9241088539670371\n",
      "0.9281958593493264 0.8938290532771177\n",
      "0.8005257969109432 0.7895745496358758\n",
      "0.688301018731515 0.681487159831353\n"
     ]
    }
   ],
   "source": [
    "# Проверка на индекс Джина \n",
    "\n",
    "classifier = RandomForestClassifier(random_state=42, n_jobs=-1, min_impurity_decrease = 1e-12)\n",
    "classifier.fit(X_train, y_train)\n",
    "print(f1_score(y_train, classifier.predict(X_train), average='micro'), \n",
    "      f1_score(y_test, classifier.predict(X_test), average='micro'))\n",
    "\n",
    "\n",
    "classifier = RandomForestClassifier(random_state=42, n_jobs=-1, min_impurity_decrease = 1e-7)\n",
    "classifier.fit(X_train, y_train)\n",
    "print(f1_score(y_train, classifier.predict(X_train), average='micro'), \n",
    "      f1_score(y_test, classifier.predict(X_test), average='micro'))\n",
    "\n",
    "classifier = RandomForestClassifier(random_state=42, n_jobs=-1, min_impurity_decrease = 1e-5)\n",
    "classifier.fit(X_train, y_train)\n",
    "print(f1_score(y_train, classifier.predict(X_train), average='micro'), \n",
    "      f1_score(y_test, classifier.predict(X_test), average='micro'))\n",
    "\n",
    "classifier = RandomForestClassifier(random_state=42, n_jobs=-1, min_impurity_decrease = 1e-4)\n",
    "classifier.fit(X_train, y_train)\n",
    "print(f1_score(y_train, classifier.predict(X_train), average='micro'), \n",
    "      f1_score(y_test, classifier.predict(X_test), average='micro'))\n",
    "\n",
    "classifier = RandomForestClassifier(random_state=42, n_jobs=-1, min_impurity_decrease = 1e-3)\n",
    "classifier.fit(X_train, y_train)\n",
    "print(f1_score(y_train, classifier.predict(X_train), average='micro'), \n",
    "      f1_score(y_test, classifier.predict(X_test), average='micro'))\n",
    "\n",
    "classifier = RandomForestClassifier(random_state=42, n_jobs=-1, min_impurity_decrease = 1e-2)\n",
    "classifier.fit(X_train, y_train)\n",
    "print(f1_score(y_train, classifier.predict(X_train), average='micro'), \n",
    "      f1_score(y_test, classifier.predict(X_test), average='micro'))\n",
    "\n",
    "classifier = RandomForestClassifier(random_state=42, n_jobs=-1, min_impurity_decrease = 1e-1)\n",
    "classifier.fit(X_train, y_train)\n",
    "print(f1_score(y_train, classifier.predict(X_train), average='micro'), \n",
    "      f1_score(y_test, classifier.predict(X_test), average='micro'))"
   ]
  },
  {
   "cell_type": "code",
   "execution_count": null,
   "id": "a3b5da46",
   "metadata": {},
   "outputs": [],
   "source": []
  },
  {
   "cell_type": "code",
   "execution_count": 63,
   "id": "0bac13b9",
   "metadata": {},
   "outputs": [
    {
     "name": "stdout",
     "output_type": "stream",
     "text": [
      "1.0 0.9225756995017248\n",
      "1.0 0.9244921425833653\n",
      "1.0 0.9206592564200843\n",
      "1.0 0.9164430816404753\n"
     ]
    }
   ],
   "source": [
    "# Проверка параметра на веса  \n",
    "\n",
    "classifier = RandomForestClassifier(random_state=42, n_jobs=-1, class_weight='balanced')\n",
    "classifier.fit(X_train, y_train)\n",
    "print(f1_score(y_train, classifier.predict(X_train), average='micro'), \n",
    "      f1_score(y_test, classifier.predict(X_test), average='micro'))\n",
    "\n",
    "classifier = RandomForestClassifier(random_state=42, n_jobs=-1, class_weight={0: 1, 1: 2.12, 2:2.39})\n",
    "classifier.fit(X_train, y_train)\n",
    "print(f1_score(y_train, classifier.predict(X_train), average='micro'), \n",
    "      f1_score(y_test, classifier.predict(X_test), average='micro'))\n",
    "\n",
    "classifier = RandomForestClassifier(random_state=42, n_jobs=-1, class_weight={0: 1, 1: 3, 2:3})\n",
    "classifier.fit(X_train, y_train)\n",
    "print(f1_score(y_train, classifier.predict(X_train), average='micro'), \n",
    "      f1_score(y_test, classifier.predict(X_test), average='micro'))\n",
    "\n",
    "classifier = RandomForestClassifier(random_state=42, n_jobs=-1, class_weight={0: 1, 1: 4, 2:4})\n",
    "classifier.fit(X_train, y_train)\n",
    "print(f1_score(y_train, classifier.predict(X_train), average='micro'), \n",
    "      f1_score(y_test, classifier.predict(X_test), average='micro'))"
   ]
  },
  {
   "cell_type": "code",
   "execution_count": 80,
   "id": "55ce83db",
   "metadata": {},
   "outputs": [],
   "source": [
    "# Автоматизируем настройку параметров случайного леса на кросс-валидации (Выполняется очень долго и проще по графикам)\n",
    "forest_params = {'n_estimators': range (1,151,10), \n",
    "                 'max_depth': range(1,22,2),\n",
    "                 'max_leaf_nodes': range(2,200,10),\n",
    "                 'min_samples_split': range(2,20),\n",
    "                 'min_samples_leaf': range(2,20),\n",
    "                 'max_features': range(8,10)}\n",
    "\n",
    "forest_grid = GridSearchCV(classifier, forest_params, n_jobs=-1, verbose=True)"
   ]
  },
  {
   "cell_type": "code",
   "execution_count": 81,
   "id": "2faf3a96",
   "metadata": {},
   "outputs": [
    {
     "name": "stdout",
     "output_type": "stream",
     "text": [
      "Fitting 5 folds for each of 3240 candidates, totalling 16200 fits\n"
     ]
    },
    {
     "data": {
      "text/plain": [
       "GridSearchCV(estimator=RandomForestClassifier(min_samples_leaf=40, n_jobs=-1,\n",
       "                                              random_state=42),\n",
       "             n_jobs=-1,\n",
       "             param_grid={'max_leaf_nodes': range(2, 100, 10),\n",
       "                         'min_samples_leaf': range(2, 20),\n",
       "                         'min_samples_split': range(2, 20)},\n",
       "             verbose=True)"
      ]
     },
     "execution_count": 81,
     "metadata": {},
     "output_type": "execute_result"
    }
   ],
   "source": [
    "# Обучение \n",
    "forest_grid.fit(X_train, y_train)"
   ]
  },
  {
   "cell_type": "code",
   "execution_count": 38,
   "id": "7f995373",
   "metadata": {},
   "outputs": [
    {
     "data": {
      "text/plain": [
       "({'max_depth': 10, 'max_features': 15}, 0.9134078928372414)"
      ]
     },
     "execution_count": 38,
     "metadata": {},
     "output_type": "execute_result"
    }
   ],
   "source": [
    "# Лучшее сочитание параметров\n",
    "forest_grid.best_params_, forest_grid.best_score_"
   ]
  },
  {
   "cell_type": "code",
   "execution_count": 47,
   "id": "c2d7ceea",
   "metadata": {},
   "outputs": [
    {
     "name": "stdout",
     "output_type": "stream",
     "text": [
      "0.982090042720999\n",
      "0.9187428133384439\n"
     ]
    }
   ],
   "source": [
    "# Смотрим на f1-score метрику на обучающих и тестируемых данных\n",
    "print(f1_score(y_train, forest_grid.predict(X_train), average='micro'))\n",
    "print(f1_score(y_test, forest_grid.predict(X_test), average='micro'))"
   ]
  },
  {
   "cell_type": "code",
   "execution_count": null,
   "id": "5c0ac57d",
   "metadata": {},
   "outputs": [],
   "source": []
  },
  {
   "cell_type": "code",
   "execution_count": 77,
   "id": "fc13020a",
   "metadata": {},
   "outputs": [
    {
     "name": "stdout",
     "output_type": "stream",
     "text": [
      "                   precision    recall  f1-score   support\n",
      "\n",
      "       Не_усталая       0.96      0.93      0.95      1382\n",
      "Средняя_усталость       0.83      0.84      0.84       662\n",
      "Высокая_усталость       0.86      0.91      0.89       565\n",
      "\n",
      "         accuracy                           0.91      2609\n",
      "        macro avg       0.89      0.90      0.89      2609\n",
      "     weighted avg       0.91      0.91      0.91      2609\n",
      "\n",
      "f1_score: 90.60942889996167%\n"
     ]
    }
   ],
   "source": [
    "classifier = RandomForestClassifier(n_jobs=-1,\n",
    "                                    random_state = 42,\n",
    "                                    n_estimators  = 500,\n",
    "                                    max_depth = 15,\n",
    "                                    max_leaf_nodes = 200,\n",
    "                                    max_features = 10,\n",
    "                                    min_samples_split=8,\n",
    "                                    min_samples_leaf=2,\n",
    "                                    min_impurity_decrease = 1e-3,\n",
    "                                    class_weight={0: 1, 1: 2.12, 2:2.39})\n",
    "\n",
    "\n",
    "# Train the classifier\n",
    "classifier.fit(X_train, y_train.ravel())\n",
    "\n",
    "# Predict test data\n",
    "y_test_predict = classifier.predict(X_test)\n",
    "\n",
    "# Get the classification report\n",
    "f1score = f1_score(y_test, y_test_predict, average='micro') * 100\n",
    "print(classification_report(y_test, y_test_predict, target_names=activity_labels))\n",
    "print(\"f1_score: \" + str(f1score) + '%')"
   ]
  },
  {
   "cell_type": "code",
   "execution_count": 108,
   "id": "f87f841c",
   "metadata": {},
   "outputs": [
    {
     "name": "stdout",
     "output_type": "stream",
     "text": [
      "0.9041807311315552\n"
     ]
    }
   ],
   "source": [
    "print(np.mean(cross_val_score(classifier, X_test, y_test, cv=5)))"
   ]
  },
  {
   "cell_type": "code",
   "execution_count": 78,
   "id": "f67c5718",
   "metadata": {},
   "outputs": [
    {
     "data": {
      "image/png": "[encoded data removed]",
      "text/plain": [
       "<Figure size 640x480 with 1 Axes>"
      ]
     },
     "metadata": {},
     "output_type": "display_data"
    }
   ],
   "source": [
    "#@title Confusion Matrix\n",
    "cm = confusion_matrix(y_test, y_test_predict)\n",
    "df_cm = pd.DataFrame(cm, index=[i for i in activity_labels], columns=[i for i in activity_labels])\n",
    "plt.figure()\n",
    "ax= sns.heatmap(df_cm,  cbar=False, cmap=\"BuGn\", annot=True, fmt=\"d\")\n",
    "plt.setp(ax.get_xticklabels(), rotation=45)\n",
    "\n",
    "plt.ylabel('Инстинная метка', fontweight='bold', fontsize = 18)\n",
    "plt.xlabel('Предсказанная метка', fontweight='bold', fontsize = 18)\n",
    "bottom, top = ax.get_ylim()\n",
    "plt.show()"
   ]
  },
  {
   "cell_type": "code",
   "execution_count": null,
   "id": "28d22361",
   "metadata": {},
   "outputs": [],
   "source": []
  },
  {
   "cell_type": "code",
   "execution_count": 289,
   "id": "a8aaee0d",
   "metadata": {},
   "outputs": [],
   "source": [
    "# Теперь пропустим все данные для обучения модели \n",
    "\n",
    "X_train = FeatureData.drop('class', axis=1)\n",
    "y_train = FeatureData['class']\n",
    "\n",
    "\n",
    "classifier = RandomForestClassifier(n_jobs=-1,\n",
    "                                    random_state = 42,\n",
    "                                    n_estimators  = 500,\n",
    "                                    max_depth = 15,\n",
    "                                    max_leaf_nodes = 200,\n",
    "                                    max_features = 10,\n",
    "                                    min_samples_split=8,\n",
    "                                    min_samples_leaf=2,\n",
    "                                    min_impurity_decrease = 1e-3,\n",
    "                                    class_weight={0: 1, 1: 2.12, 2:2.39})\n",
    "\n",
    "# Train the classifier\n",
    "classifier.fit(X_train, y_train)\n",
    "\n",
    "# Сохраняем \n",
    "with open('RandomForest.pkl', 'wb') as file:\n",
    "    pickle.dump(classifier, file)"
   ]
  },
  {
   "cell_type": "code",
   "execution_count": null,
   "id": "0aff0871",
   "metadata": {},
   "outputs": [],
   "source": []
  }
 ],
 "metadata": {
  "kernelspec": {
   "display_name": "Python 3 (ipykernel)",
   "language": "python",
   "name": "python3"
  },
  "language_info": {
   "codemirror_mode": {
    "name": "ipython",
    "version": 3
   },
   "file_extension": ".py",
   "mimetype": "text/x-python",
   "name": "python",
   "nbconvert_exporter": "python",
   "pygments_lexer": "ipython3",
   "version": "3.9.13"
  }
 },
 "nbformat": 4,
 "nbformat_minor": 5
}
